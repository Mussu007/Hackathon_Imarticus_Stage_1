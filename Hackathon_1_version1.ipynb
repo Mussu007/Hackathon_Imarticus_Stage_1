{
 "cells": [
  {
   "cell_type": "markdown",
   "id": "ef464823",
   "metadata": {},
   "source": [
    "### The Problem\n",
    "\n",
    "As a data scientist of a leading decision analysis firm you are required to predict the potential global user of the game based on the data provided by the customer so that they can plan their global launch.\n",
    "\n",
    "#### The features\n",
    "\n",
    "1. Name - Game name\n",
    "2. Platform - Running platform\n",
    "3. Year of release\n",
    "4. Genre - Game Genre\n",
    "5. Publisher\n",
    "6. Critic_score - Aggregate score compiled by Metacritic staff\n",
    "7. Critic_count - The number of critics used in coming up with the Critic Score\n",
    "8. User_score - Score by Metacritic’s subscribers\n",
    "9. Usercount - Number of users who gave the user score\n",
    "10. Developer - Party responsible for creating the game\n",
    "11. Rating - The ESRB ratings\n",
    "12. NA_Sales - Sales in North America (in millions of units)\n",
    "13. EU_Sales - Sales in the European Union (in millions of units)\n",
    "14. JP_Sales - Sales in Japan (in millions of units)\n",
    "15. Global_Sales - Total sales in the world (in millions of units)"
   ]
  },
  {
   "cell_type": "code",
   "execution_count": 1,
   "id": "a41b5250",
   "metadata": {},
   "outputs": [],
   "source": [
    "## Importing libraries\n",
    "import numpy as np # linear algebra\n",
    "import pandas as pd # data processing, CSV file I/O (e.g. pd.read_csv)\n",
    "import matplotlib.pyplot as plt\n",
    "import os\n",
    "import seaborn as sns\n",
    "from sklearn.model_selection import train_test_split\n",
    "from sklearn.neighbors import KNeighborsRegressor\n",
    "import warnings\n",
    "warnings.filterwarnings('ignore')\n",
    "%matplotlib inline"
   ]
  },
  {
   "cell_type": "code",
   "execution_count": 2,
   "id": "b9356355",
   "metadata": {},
   "outputs": [
    {
     "name": "stdout",
     "output_type": "stream",
     "text": [
      "The number of rows and columns in training data (14574, 15)\n",
      "The number of rows and columns in test data (2143, 14)\n"
     ]
    },
    {
     "data": {
      "text/html": [
       "<div>\n",
       "<style scoped>\n",
       "    .dataframe tbody tr th:only-of-type {\n",
       "        vertical-align: middle;\n",
       "    }\n",
       "\n",
       "    .dataframe tbody tr th {\n",
       "        vertical-align: top;\n",
       "    }\n",
       "\n",
       "    .dataframe thead th {\n",
       "        text-align: right;\n",
       "    }\n",
       "</style>\n",
       "<table border=\"1\" class=\"dataframe\">\n",
       "  <thead>\n",
       "    <tr style=\"text-align: right;\">\n",
       "      <th></th>\n",
       "      <th>Name</th>\n",
       "      <th>Platform</th>\n",
       "      <th>Year_of_Release</th>\n",
       "      <th>Genre</th>\n",
       "      <th>Publisher</th>\n",
       "      <th>NA_Sales</th>\n",
       "      <th>EU_Sales</th>\n",
       "      <th>JP_Sales</th>\n",
       "      <th>Critic_Score</th>\n",
       "      <th>Critic_Count</th>\n",
       "      <th>User_Score</th>\n",
       "      <th>User_Count</th>\n",
       "      <th>Developer</th>\n",
       "      <th>Rating</th>\n",
       "      <th>Global_Sales</th>\n",
       "    </tr>\n",
       "  </thead>\n",
       "  <tbody>\n",
       "    <tr>\n",
       "      <th>0</th>\n",
       "      <td>Wii Sports</td>\n",
       "      <td>Wii</td>\n",
       "      <td>2006.0</td>\n",
       "      <td>Sports</td>\n",
       "      <td>Nintendo</td>\n",
       "      <td>41.36</td>\n",
       "      <td>28.96</td>\n",
       "      <td>3.77</td>\n",
       "      <td>76.0</td>\n",
       "      <td>51.0</td>\n",
       "      <td>8</td>\n",
       "      <td>322.0</td>\n",
       "      <td>Nintendo</td>\n",
       "      <td>E</td>\n",
       "      <td>82.53</td>\n",
       "    </tr>\n",
       "    <tr>\n",
       "      <th>1</th>\n",
       "      <td>Super Mario Bros.</td>\n",
       "      <td>NES</td>\n",
       "      <td>1985.0</td>\n",
       "      <td>Platform</td>\n",
       "      <td>Nintendo</td>\n",
       "      <td>29.08</td>\n",
       "      <td>3.58</td>\n",
       "      <td>6.81</td>\n",
       "      <td>NaN</td>\n",
       "      <td>NaN</td>\n",
       "      <td>NaN</td>\n",
       "      <td>NaN</td>\n",
       "      <td>NaN</td>\n",
       "      <td>NaN</td>\n",
       "      <td>40.24</td>\n",
       "    </tr>\n",
       "    <tr>\n",
       "      <th>2</th>\n",
       "      <td>Mario Kart Wii</td>\n",
       "      <td>Wii</td>\n",
       "      <td>2008.0</td>\n",
       "      <td>Racing</td>\n",
       "      <td>Nintendo</td>\n",
       "      <td>15.68</td>\n",
       "      <td>12.76</td>\n",
       "      <td>3.79</td>\n",
       "      <td>82.0</td>\n",
       "      <td>73.0</td>\n",
       "      <td>8.3</td>\n",
       "      <td>709.0</td>\n",
       "      <td>Nintendo</td>\n",
       "      <td>E</td>\n",
       "      <td>35.52</td>\n",
       "    </tr>\n",
       "    <tr>\n",
       "      <th>3</th>\n",
       "      <td>Wii Sports Resort</td>\n",
       "      <td>Wii</td>\n",
       "      <td>2009.0</td>\n",
       "      <td>Sports</td>\n",
       "      <td>Nintendo</td>\n",
       "      <td>15.61</td>\n",
       "      <td>10.93</td>\n",
       "      <td>3.28</td>\n",
       "      <td>80.0</td>\n",
       "      <td>73.0</td>\n",
       "      <td>8</td>\n",
       "      <td>192.0</td>\n",
       "      <td>Nintendo</td>\n",
       "      <td>E</td>\n",
       "      <td>32.77</td>\n",
       "    </tr>\n",
       "    <tr>\n",
       "      <th>4</th>\n",
       "      <td>Pokemon Red/Pokemon Blue</td>\n",
       "      <td>GB</td>\n",
       "      <td>1996.0</td>\n",
       "      <td>Role-Playing</td>\n",
       "      <td>Nintendo</td>\n",
       "      <td>11.27</td>\n",
       "      <td>8.89</td>\n",
       "      <td>10.22</td>\n",
       "      <td>NaN</td>\n",
       "      <td>NaN</td>\n",
       "      <td>NaN</td>\n",
       "      <td>NaN</td>\n",
       "      <td>NaN</td>\n",
       "      <td>NaN</td>\n",
       "      <td>31.37</td>\n",
       "    </tr>\n",
       "  </tbody>\n",
       "</table>\n",
       "</div>"
      ],
      "text/plain": [
       "                       Name Platform  Year_of_Release         Genre Publisher  \\\n",
       "0                Wii Sports      Wii           2006.0        Sports  Nintendo   \n",
       "1         Super Mario Bros.      NES           1985.0      Platform  Nintendo   \n",
       "2            Mario Kart Wii      Wii           2008.0        Racing  Nintendo   \n",
       "3         Wii Sports Resort      Wii           2009.0        Sports  Nintendo   \n",
       "4  Pokemon Red/Pokemon Blue       GB           1996.0  Role-Playing  Nintendo   \n",
       "\n",
       "   NA_Sales  EU_Sales  JP_Sales  Critic_Score  Critic_Count User_Score  \\\n",
       "0     41.36     28.96      3.77          76.0          51.0          8   \n",
       "1     29.08      3.58      6.81           NaN           NaN        NaN   \n",
       "2     15.68     12.76      3.79          82.0          73.0        8.3   \n",
       "3     15.61     10.93      3.28          80.0          73.0          8   \n",
       "4     11.27      8.89     10.22           NaN           NaN        NaN   \n",
       "\n",
       "   User_Count Developer Rating  Global_Sales  \n",
       "0       322.0  Nintendo      E         82.53  \n",
       "1         NaN       NaN    NaN         40.24  \n",
       "2       709.0  Nintendo      E         35.52  \n",
       "3       192.0  Nintendo      E         32.77  \n",
       "4         NaN       NaN    NaN         31.37  "
      ]
     },
     "execution_count": 2,
     "metadata": {},
     "output_type": "execute_result"
    }
   ],
   "source": [
    "## importing data sets\n",
    "\n",
    "os.chdir(\"I:/My Machine Learning/My Python projects\")\n",
    "df_train = pd.read_csv('train_game.csv')\n",
    "df_test = pd.read_csv('test_game.csv')\n",
    "df_sample = pd.read_csv('sample_game.csv')\n",
    "print(\"The number of rows and columns in training data\", df_train.shape)\n",
    "print(\"The number of rows and columns in test data\", df_test.shape)\n",
    "df_train.head(5)"
   ]
  },
  {
   "cell_type": "markdown",
   "id": "2f62c101",
   "metadata": {},
   "source": [
    "#### Renaming column names for the ease of coding"
   ]
  },
  {
   "cell_type": "code",
   "execution_count": 3,
   "id": "36d0762f",
   "metadata": {
    "scrolled": true
   },
   "outputs": [
    {
     "data": {
      "text/html": [
       "<div>\n",
       "<style scoped>\n",
       "    .dataframe tbody tr th:only-of-type {\n",
       "        vertical-align: middle;\n",
       "    }\n",
       "\n",
       "    .dataframe tbody tr th {\n",
       "        vertical-align: top;\n",
       "    }\n",
       "\n",
       "    .dataframe thead th {\n",
       "        text-align: right;\n",
       "    }\n",
       "</style>\n",
       "<table border=\"1\" class=\"dataframe\">\n",
       "  <thead>\n",
       "    <tr style=\"text-align: right;\">\n",
       "      <th></th>\n",
       "      <th>Name</th>\n",
       "      <th>Platform</th>\n",
       "      <th>Year</th>\n",
       "      <th>Genre</th>\n",
       "      <th>Publisher</th>\n",
       "      <th>NA</th>\n",
       "      <th>EU</th>\n",
       "      <th>JP</th>\n",
       "      <th>Critic_Score</th>\n",
       "      <th>Critic_Count</th>\n",
       "      <th>User_Score</th>\n",
       "      <th>User_Count</th>\n",
       "      <th>Developer</th>\n",
       "      <th>Rating</th>\n",
       "      <th>Global</th>\n",
       "    </tr>\n",
       "  </thead>\n",
       "  <tbody>\n",
       "    <tr>\n",
       "      <th>0</th>\n",
       "      <td>Wii Sports</td>\n",
       "      <td>Wii</td>\n",
       "      <td>2006.0</td>\n",
       "      <td>Sports</td>\n",
       "      <td>Nintendo</td>\n",
       "      <td>41.36</td>\n",
       "      <td>28.96</td>\n",
       "      <td>3.77</td>\n",
       "      <td>76.0</td>\n",
       "      <td>51.0</td>\n",
       "      <td>8</td>\n",
       "      <td>322.0</td>\n",
       "      <td>Nintendo</td>\n",
       "      <td>E</td>\n",
       "      <td>82.53</td>\n",
       "    </tr>\n",
       "    <tr>\n",
       "      <th>1</th>\n",
       "      <td>Super Mario Bros.</td>\n",
       "      <td>NES</td>\n",
       "      <td>1985.0</td>\n",
       "      <td>Platform</td>\n",
       "      <td>Nintendo</td>\n",
       "      <td>29.08</td>\n",
       "      <td>3.58</td>\n",
       "      <td>6.81</td>\n",
       "      <td>NaN</td>\n",
       "      <td>NaN</td>\n",
       "      <td>NaN</td>\n",
       "      <td>NaN</td>\n",
       "      <td>NaN</td>\n",
       "      <td>NaN</td>\n",
       "      <td>40.24</td>\n",
       "    </tr>\n",
       "    <tr>\n",
       "      <th>2</th>\n",
       "      <td>Mario Kart Wii</td>\n",
       "      <td>Wii</td>\n",
       "      <td>2008.0</td>\n",
       "      <td>Racing</td>\n",
       "      <td>Nintendo</td>\n",
       "      <td>15.68</td>\n",
       "      <td>12.76</td>\n",
       "      <td>3.79</td>\n",
       "      <td>82.0</td>\n",
       "      <td>73.0</td>\n",
       "      <td>8.3</td>\n",
       "      <td>709.0</td>\n",
       "      <td>Nintendo</td>\n",
       "      <td>E</td>\n",
       "      <td>35.52</td>\n",
       "    </tr>\n",
       "    <tr>\n",
       "      <th>3</th>\n",
       "      <td>Wii Sports Resort</td>\n",
       "      <td>Wii</td>\n",
       "      <td>2009.0</td>\n",
       "      <td>Sports</td>\n",
       "      <td>Nintendo</td>\n",
       "      <td>15.61</td>\n",
       "      <td>10.93</td>\n",
       "      <td>3.28</td>\n",
       "      <td>80.0</td>\n",
       "      <td>73.0</td>\n",
       "      <td>8</td>\n",
       "      <td>192.0</td>\n",
       "      <td>Nintendo</td>\n",
       "      <td>E</td>\n",
       "      <td>32.77</td>\n",
       "    </tr>\n",
       "    <tr>\n",
       "      <th>4</th>\n",
       "      <td>Pokemon Red/Pokemon Blue</td>\n",
       "      <td>GB</td>\n",
       "      <td>1996.0</td>\n",
       "      <td>Role-Playing</td>\n",
       "      <td>Nintendo</td>\n",
       "      <td>11.27</td>\n",
       "      <td>8.89</td>\n",
       "      <td>10.22</td>\n",
       "      <td>NaN</td>\n",
       "      <td>NaN</td>\n",
       "      <td>NaN</td>\n",
       "      <td>NaN</td>\n",
       "      <td>NaN</td>\n",
       "      <td>NaN</td>\n",
       "      <td>31.37</td>\n",
       "    </tr>\n",
       "  </tbody>\n",
       "</table>\n",
       "</div>"
      ],
      "text/plain": [
       "                       Name Platform    Year         Genre Publisher     NA  \\\n",
       "0                Wii Sports      Wii  2006.0        Sports  Nintendo  41.36   \n",
       "1         Super Mario Bros.      NES  1985.0      Platform  Nintendo  29.08   \n",
       "2            Mario Kart Wii      Wii  2008.0        Racing  Nintendo  15.68   \n",
       "3         Wii Sports Resort      Wii  2009.0        Sports  Nintendo  15.61   \n",
       "4  Pokemon Red/Pokemon Blue       GB  1996.0  Role-Playing  Nintendo  11.27   \n",
       "\n",
       "      EU     JP  Critic_Score  Critic_Count User_Score  User_Count Developer  \\\n",
       "0  28.96   3.77          76.0          51.0          8       322.0  Nintendo   \n",
       "1   3.58   6.81           NaN           NaN        NaN         NaN       NaN   \n",
       "2  12.76   3.79          82.0          73.0        8.3       709.0  Nintendo   \n",
       "3  10.93   3.28          80.0          73.0          8       192.0  Nintendo   \n",
       "4   8.89  10.22           NaN           NaN        NaN         NaN       NaN   \n",
       "\n",
       "  Rating  Global  \n",
       "0      E   82.53  \n",
       "1    NaN   40.24  \n",
       "2      E   35.52  \n",
       "3      E   32.77  \n",
       "4    NaN   31.37  "
      ]
     },
     "execution_count": 3,
     "metadata": {},
     "output_type": "execute_result"
    }
   ],
   "source": [
    "\n",
    "\n",
    "df_train = df_train.rename(columns={\"Year_of_Release\": \"Year\", \n",
    "                            \"NA_Sales\": \"NA\",\n",
    "                            \"EU_Sales\": \"EU\",\n",
    "                            \"JP_Sales\": \"JP\",\n",
    "                            \"Other_Sales\": \"Other\",\n",
    "                            \"Global_Sales\": \"Global\"})\n",
    "\n",
    "df_train.head()"
   ]
  },
  {
   "cell_type": "code",
   "execution_count": 4,
   "id": "a2705471",
   "metadata": {},
   "outputs": [
    {
     "data": {
      "text/html": [
       "<div>\n",
       "<style scoped>\n",
       "    .dataframe tbody tr th:only-of-type {\n",
       "        vertical-align: middle;\n",
       "    }\n",
       "\n",
       "    .dataframe tbody tr th {\n",
       "        vertical-align: top;\n",
       "    }\n",
       "\n",
       "    .dataframe thead th {\n",
       "        text-align: right;\n",
       "    }\n",
       "</style>\n",
       "<table border=\"1\" class=\"dataframe\">\n",
       "  <thead>\n",
       "    <tr style=\"text-align: right;\">\n",
       "      <th></th>\n",
       "      <th>Name</th>\n",
       "      <th>Platform</th>\n",
       "      <th>Year</th>\n",
       "      <th>Genre</th>\n",
       "      <th>Publisher</th>\n",
       "      <th>NA</th>\n",
       "      <th>EU</th>\n",
       "      <th>JP</th>\n",
       "      <th>Critic_Score</th>\n",
       "      <th>Critic_Count</th>\n",
       "      <th>User_Score</th>\n",
       "      <th>User_Count</th>\n",
       "      <th>Developer</th>\n",
       "      <th>Rating</th>\n",
       "    </tr>\n",
       "  </thead>\n",
       "  <tbody>\n",
       "    <tr>\n",
       "      <th>0</th>\n",
       "      <td>Nicktoons: MLB</td>\n",
       "      <td>X360</td>\n",
       "      <td>2011.0</td>\n",
       "      <td>Sports</td>\n",
       "      <td>Take-Two Interactive</td>\n",
       "      <td>0.12</td>\n",
       "      <td>0.00</td>\n",
       "      <td>0.0</td>\n",
       "      <td>NaN</td>\n",
       "      <td>NaN</td>\n",
       "      <td>7.6</td>\n",
       "      <td>7.0</td>\n",
       "      <td>High Voltage Software</td>\n",
       "      <td>E</td>\n",
       "    </tr>\n",
       "    <tr>\n",
       "      <th>1</th>\n",
       "      <td>Shonen Jump's One Piece: Grand Battle</td>\n",
       "      <td>PS2</td>\n",
       "      <td>2005.0</td>\n",
       "      <td>Fighting</td>\n",
       "      <td>Atari</td>\n",
       "      <td>0.07</td>\n",
       "      <td>0.05</td>\n",
       "      <td>0.0</td>\n",
       "      <td>NaN</td>\n",
       "      <td>NaN</td>\n",
       "      <td>NaN</td>\n",
       "      <td>NaN</td>\n",
       "      <td>NaN</td>\n",
       "      <td>NaN</td>\n",
       "    </tr>\n",
       "    <tr>\n",
       "      <th>2</th>\n",
       "      <td>Learn Math</td>\n",
       "      <td>DS</td>\n",
       "      <td>2009.0</td>\n",
       "      <td>Puzzle</td>\n",
       "      <td>DreamCatcher Interactive</td>\n",
       "      <td>0.12</td>\n",
       "      <td>0.00</td>\n",
       "      <td>0.0</td>\n",
       "      <td>NaN</td>\n",
       "      <td>NaN</td>\n",
       "      <td>tbd</td>\n",
       "      <td>NaN</td>\n",
       "      <td>Dreamcatcher</td>\n",
       "      <td>E</td>\n",
       "    </tr>\n",
       "    <tr>\n",
       "      <th>3</th>\n",
       "      <td>Nitrobike</td>\n",
       "      <td>Wii</td>\n",
       "      <td>2008.0</td>\n",
       "      <td>Racing</td>\n",
       "      <td>Ubisoft</td>\n",
       "      <td>0.11</td>\n",
       "      <td>0.01</td>\n",
       "      <td>0.0</td>\n",
       "      <td>49.0</td>\n",
       "      <td>22.0</td>\n",
       "      <td>7.1</td>\n",
       "      <td>7.0</td>\n",
       "      <td>Left Field Productions</td>\n",
       "      <td>E10+</td>\n",
       "    </tr>\n",
       "    <tr>\n",
       "      <th>4</th>\n",
       "      <td>Cruise Ship Vacation Games</td>\n",
       "      <td>Wii</td>\n",
       "      <td>2009.0</td>\n",
       "      <td>Puzzle</td>\n",
       "      <td>Avanquest</td>\n",
       "      <td>0.12</td>\n",
       "      <td>0.00</td>\n",
       "      <td>0.0</td>\n",
       "      <td>NaN</td>\n",
       "      <td>NaN</td>\n",
       "      <td>tbd</td>\n",
       "      <td>NaN</td>\n",
       "      <td>Activision</td>\n",
       "      <td>E</td>\n",
       "    </tr>\n",
       "  </tbody>\n",
       "</table>\n",
       "</div>"
      ],
      "text/plain": [
       "                                    Name Platform    Year     Genre  \\\n",
       "0                         Nicktoons: MLB     X360  2011.0    Sports   \n",
       "1  Shonen Jump's One Piece: Grand Battle      PS2  2005.0  Fighting   \n",
       "2                             Learn Math       DS  2009.0    Puzzle   \n",
       "3                              Nitrobike      Wii  2008.0    Racing   \n",
       "4             Cruise Ship Vacation Games      Wii  2009.0    Puzzle   \n",
       "\n",
       "                  Publisher    NA    EU   JP  Critic_Score  Critic_Count  \\\n",
       "0      Take-Two Interactive  0.12  0.00  0.0           NaN           NaN   \n",
       "1                     Atari  0.07  0.05  0.0           NaN           NaN   \n",
       "2  DreamCatcher Interactive  0.12  0.00  0.0           NaN           NaN   \n",
       "3                   Ubisoft  0.11  0.01  0.0          49.0          22.0   \n",
       "4                 Avanquest  0.12  0.00  0.0           NaN           NaN   \n",
       "\n",
       "  User_Score  User_Count               Developer Rating  \n",
       "0        7.6         7.0   High Voltage Software      E  \n",
       "1        NaN         NaN                     NaN    NaN  \n",
       "2        tbd         NaN            Dreamcatcher      E  \n",
       "3        7.1         7.0  Left Field Productions   E10+  \n",
       "4        tbd         NaN              Activision      E  "
      ]
     },
     "execution_count": 4,
     "metadata": {},
     "output_type": "execute_result"
    }
   ],
   "source": [
    "df_test = df_test.rename(columns={\"Year_of_Release\": \"Year\", \n",
    "                            \"NA_Sales\": \"NA\",\n",
    "                            \"EU_Sales\": \"EU\",\n",
    "                            \"JP_Sales\": \"JP\",\n",
    "                            \"Other_Sales\": \"Other\",\n",
    "                            \"Global_Sales\": \"Global\"})\n",
    "\n",
    "df_test.head()"
   ]
  },
  {
   "cell_type": "markdown",
   "id": "585e6adf",
   "metadata": {},
   "source": [
    "## Exploratory Data Analysis\n",
    "\n",
    "Agenda: to understand our data"
   ]
  },
  {
   "cell_type": "code",
   "execution_count": 5,
   "id": "94786a59",
   "metadata": {},
   "outputs": [
    {
     "name": "stdout",
     "output_type": "stream",
     "text": [
      "<class 'pandas.core.frame.DataFrame'>\n",
      "RangeIndex: 14574 entries, 0 to 14573\n",
      "Data columns (total 15 columns):\n",
      " #   Column        Non-Null Count  Dtype  \n",
      "---  ------        --------------  -----  \n",
      " 0   Name          14574 non-null  object \n",
      " 1   Platform      14574 non-null  object \n",
      " 2   Year          14342 non-null  float64\n",
      " 3   Genre         14574 non-null  object \n",
      " 4   Publisher     14525 non-null  object \n",
      " 5   NA            14574 non-null  float64\n",
      " 6   EU            14574 non-null  float64\n",
      " 7   JP            14574 non-null  float64\n",
      " 8   Critic_Score  7217 non-null   float64\n",
      " 9   Critic_Count  7217 non-null   float64\n",
      " 10  User_Score    8760 non-null   object \n",
      " 11  User_Count    6796 non-null   float64\n",
      " 12  Developer     8829 non-null   object \n",
      " 13  Rating        8704 non-null   object \n",
      " 14  Global        14574 non-null  float64\n",
      "dtypes: float64(8), object(7)\n",
      "memory usage: 1.7+ MB\n"
     ]
    }
   ],
   "source": [
    "df_train.info()"
   ]
  },
  {
   "cell_type": "code",
   "execution_count": 6,
   "id": "bf07967a",
   "metadata": {},
   "outputs": [],
   "source": [
    "## Checking for missing values\n",
    "\n",
    "def missing_values_table(df):\n",
    "        # Total missing values\n",
    "        missing_values = df.isnull().sum()\n",
    "        \n",
    "        # Percentage of missing values\n",
    "        missing_values_percentage = 100 * (df.isnull().sum() / len(df))\n",
    "        \n",
    "        # Make a table with the results\n",
    "        missing_value_table = pd.concat([missing_values, missing_values_percentage], axis=1)\n",
    "        \n",
    "        # Rename the columns\n",
    "        missing_values_table_rename = missing_value_table.rename(columns = {0 : \"Missing Values\", 1 : \"% of Total Values\"})\n",
    "        \n",
    "        # Sort the table by percentage of missing descending\n",
    "        missing_values_table_rename = missing_values_table_rename[\n",
    "            missing_values_table_rename.iloc[:,1] != 0].sort_values(\n",
    "        \"% of Total Values\", ascending=False).round(1)\n",
    "        \n",
    "        # Print some summary information\n",
    "        print (\"Your selected dataframe has \" + str(df.shape[1]) + \" columns.\\n\"      \n",
    "            \"There are \" + str(missing_values_table_rename.shape[0]) +\n",
    "              \" columns that have missing values.\")\n",
    "        \n",
    "        # Return the dataframe with missing information\n",
    "        return missing_values_table_rename"
   ]
  },
  {
   "cell_type": "code",
   "execution_count": 7,
   "id": "4bc25053",
   "metadata": {},
   "outputs": [
    {
     "name": "stdout",
     "output_type": "stream",
     "text": [
      "Your selected dataframe has 15 columns.\n",
      "There are 8 columns that have missing values.\n"
     ]
    },
    {
     "data": {
      "text/html": [
       "<div>\n",
       "<style scoped>\n",
       "    .dataframe tbody tr th:only-of-type {\n",
       "        vertical-align: middle;\n",
       "    }\n",
       "\n",
       "    .dataframe tbody tr th {\n",
       "        vertical-align: top;\n",
       "    }\n",
       "\n",
       "    .dataframe thead th {\n",
       "        text-align: right;\n",
       "    }\n",
       "</style>\n",
       "<table border=\"1\" class=\"dataframe\">\n",
       "  <thead>\n",
       "    <tr style=\"text-align: right;\">\n",
       "      <th></th>\n",
       "      <th>Missing Values</th>\n",
       "      <th>% of Total Values</th>\n",
       "    </tr>\n",
       "  </thead>\n",
       "  <tbody>\n",
       "    <tr>\n",
       "      <th>User_Count</th>\n",
       "      <td>7778</td>\n",
       "      <td>53.4</td>\n",
       "    </tr>\n",
       "    <tr>\n",
       "      <th>Critic_Score</th>\n",
       "      <td>7357</td>\n",
       "      <td>50.5</td>\n",
       "    </tr>\n",
       "    <tr>\n",
       "      <th>Critic_Count</th>\n",
       "      <td>7357</td>\n",
       "      <td>50.5</td>\n",
       "    </tr>\n",
       "    <tr>\n",
       "      <th>Rating</th>\n",
       "      <td>5870</td>\n",
       "      <td>40.3</td>\n",
       "    </tr>\n",
       "    <tr>\n",
       "      <th>User_Score</th>\n",
       "      <td>5814</td>\n",
       "      <td>39.9</td>\n",
       "    </tr>\n",
       "    <tr>\n",
       "      <th>Developer</th>\n",
       "      <td>5745</td>\n",
       "      <td>39.4</td>\n",
       "    </tr>\n",
       "    <tr>\n",
       "      <th>Year</th>\n",
       "      <td>232</td>\n",
       "      <td>1.6</td>\n",
       "    </tr>\n",
       "    <tr>\n",
       "      <th>Publisher</th>\n",
       "      <td>49</td>\n",
       "      <td>0.3</td>\n",
       "    </tr>\n",
       "  </tbody>\n",
       "</table>\n",
       "</div>"
      ],
      "text/plain": [
       "              Missing Values  % of Total Values\n",
       "User_Count              7778               53.4\n",
       "Critic_Score            7357               50.5\n",
       "Critic_Count            7357               50.5\n",
       "Rating                  5870               40.3\n",
       "User_Score              5814               39.9\n",
       "Developer               5745               39.4\n",
       "Year                     232                1.6\n",
       "Publisher                 49                0.3"
      ]
     },
     "execution_count": 7,
     "metadata": {},
     "output_type": "execute_result"
    }
   ],
   "source": [
    "missing_values_table(df_train)"
   ]
  },
  {
   "cell_type": "code",
   "execution_count": 8,
   "id": "b7dcf39b",
   "metadata": {},
   "outputs": [
    {
     "name": "stdout",
     "output_type": "stream",
     "text": [
      "Your selected dataframe has 14 columns.\n",
      "There are 8 columns that have missing values.\n"
     ]
    },
    {
     "data": {
      "text/html": [
       "<div>\n",
       "<style scoped>\n",
       "    .dataframe tbody tr th:only-of-type {\n",
       "        vertical-align: middle;\n",
       "    }\n",
       "\n",
       "    .dataframe tbody tr th {\n",
       "        vertical-align: top;\n",
       "    }\n",
       "\n",
       "    .dataframe thead th {\n",
       "        text-align: right;\n",
       "    }\n",
       "</style>\n",
       "<table border=\"1\" class=\"dataframe\">\n",
       "  <thead>\n",
       "    <tr style=\"text-align: right;\">\n",
       "      <th></th>\n",
       "      <th>Missing Values</th>\n",
       "      <th>% of Total Values</th>\n",
       "    </tr>\n",
       "  </thead>\n",
       "  <tbody>\n",
       "    <tr>\n",
       "      <th>User_Count</th>\n",
       "      <td>1349</td>\n",
       "      <td>62.9</td>\n",
       "    </tr>\n",
       "    <tr>\n",
       "      <th>Critic_Score</th>\n",
       "      <td>1223</td>\n",
       "      <td>57.1</td>\n",
       "    </tr>\n",
       "    <tr>\n",
       "      <th>Critic_Count</th>\n",
       "      <td>1223</td>\n",
       "      <td>57.1</td>\n",
       "    </tr>\n",
       "    <tr>\n",
       "      <th>Rating</th>\n",
       "      <td>897</td>\n",
       "      <td>41.9</td>\n",
       "    </tr>\n",
       "    <tr>\n",
       "      <th>User_Score</th>\n",
       "      <td>888</td>\n",
       "      <td>41.4</td>\n",
       "    </tr>\n",
       "    <tr>\n",
       "      <th>Developer</th>\n",
       "      <td>876</td>\n",
       "      <td>40.9</td>\n",
       "    </tr>\n",
       "    <tr>\n",
       "      <th>Year</th>\n",
       "      <td>37</td>\n",
       "      <td>1.7</td>\n",
       "    </tr>\n",
       "    <tr>\n",
       "      <th>Publisher</th>\n",
       "      <td>5</td>\n",
       "      <td>0.2</td>\n",
       "    </tr>\n",
       "  </tbody>\n",
       "</table>\n",
       "</div>"
      ],
      "text/plain": [
       "              Missing Values  % of Total Values\n",
       "User_Count              1349               62.9\n",
       "Critic_Score            1223               57.1\n",
       "Critic_Count            1223               57.1\n",
       "Rating                   897               41.9\n",
       "User_Score               888               41.4\n",
       "Developer                876               40.9\n",
       "Year                      37                1.7\n",
       "Publisher                  5                0.2"
      ]
     },
     "execution_count": 8,
     "metadata": {},
     "output_type": "execute_result"
    }
   ],
   "source": [
    "missing_values_table(df_test)"
   ]
  },
  {
   "cell_type": "markdown",
   "id": "5d6cef73",
   "metadata": {},
   "source": [
    "### The main issue\n",
    "\n",
    "The main issue with computing missing values in the column `Rating`, `Developer`, `Publisher` and `Year` is that they are definite. We cannot use mode or median or any other method to fill the missing values. So the best course of action is to fill the missing values with `Unknown`.\n",
    "\n",
    "We will drop the `Year` & `Publisher` missing rows as this is the best course of action. Also, total rows of 232 will be dropped which is just 1.9% of the data. So we won't harm the dataset"
   ]
  },
  {
   "cell_type": "code",
   "execution_count": 9,
   "id": "a534561d",
   "metadata": {},
   "outputs": [],
   "source": [
    "## Dropping the rows\n",
    "\n",
    "df_train = df_train.dropna(subset=['Year', 'Publisher'])"
   ]
  },
  {
   "cell_type": "code",
   "execution_count": 10,
   "id": "c2621f17",
   "metadata": {},
   "outputs": [
    {
     "data": {
      "text/plain": [
       "(14312, 15)"
      ]
     },
     "execution_count": 10,
     "metadata": {},
     "output_type": "execute_result"
    }
   ],
   "source": [
    "df_train.shape"
   ]
  },
  {
   "cell_type": "code",
   "execution_count": 11,
   "id": "38fbcfdf",
   "metadata": {},
   "outputs": [],
   "source": [
    "df_test['Publisher'] = df_test['Publisher'].fillna(\"No Publisher\")"
   ]
  },
  {
   "cell_type": "code",
   "execution_count": 12,
   "id": "681db6f9",
   "metadata": {},
   "outputs": [
    {
     "data": {
      "text/html": [
       "<div>\n",
       "<style scoped>\n",
       "    .dataframe tbody tr th:only-of-type {\n",
       "        vertical-align: middle;\n",
       "    }\n",
       "\n",
       "    .dataframe tbody tr th {\n",
       "        vertical-align: top;\n",
       "    }\n",
       "\n",
       "    .dataframe thead th {\n",
       "        text-align: right;\n",
       "    }\n",
       "</style>\n",
       "<table border=\"1\" class=\"dataframe\">\n",
       "  <thead>\n",
       "    <tr style=\"text-align: right;\">\n",
       "      <th></th>\n",
       "      <th>Name</th>\n",
       "      <th>Platform</th>\n",
       "      <th>Year</th>\n",
       "      <th>Genre</th>\n",
       "      <th>Publisher</th>\n",
       "      <th>NA</th>\n",
       "      <th>EU</th>\n",
       "      <th>JP</th>\n",
       "      <th>Critic_Score</th>\n",
       "      <th>Critic_Count</th>\n",
       "      <th>User_Score</th>\n",
       "      <th>User_Count</th>\n",
       "      <th>Developer</th>\n",
       "      <th>Rating</th>\n",
       "    </tr>\n",
       "  </thead>\n",
       "  <tbody>\n",
       "    <tr>\n",
       "      <th>0</th>\n",
       "      <td>Nicktoons: MLB</td>\n",
       "      <td>X360</td>\n",
       "      <td>2011.0</td>\n",
       "      <td>Sports</td>\n",
       "      <td>Take-Two Interactive</td>\n",
       "      <td>0.12</td>\n",
       "      <td>0.00</td>\n",
       "      <td>0.0</td>\n",
       "      <td>NaN</td>\n",
       "      <td>NaN</td>\n",
       "      <td>7.6</td>\n",
       "      <td>7.0</td>\n",
       "      <td>High Voltage Software</td>\n",
       "      <td>E</td>\n",
       "    </tr>\n",
       "    <tr>\n",
       "      <th>1</th>\n",
       "      <td>Shonen Jump's One Piece: Grand Battle</td>\n",
       "      <td>PS2</td>\n",
       "      <td>2005.0</td>\n",
       "      <td>Fighting</td>\n",
       "      <td>Atari</td>\n",
       "      <td>0.07</td>\n",
       "      <td>0.05</td>\n",
       "      <td>0.0</td>\n",
       "      <td>NaN</td>\n",
       "      <td>NaN</td>\n",
       "      <td>NaN</td>\n",
       "      <td>NaN</td>\n",
       "      <td>NaN</td>\n",
       "      <td>NaN</td>\n",
       "    </tr>\n",
       "    <tr>\n",
       "      <th>2</th>\n",
       "      <td>Learn Math</td>\n",
       "      <td>DS</td>\n",
       "      <td>2009.0</td>\n",
       "      <td>Puzzle</td>\n",
       "      <td>DreamCatcher Interactive</td>\n",
       "      <td>0.12</td>\n",
       "      <td>0.00</td>\n",
       "      <td>0.0</td>\n",
       "      <td>NaN</td>\n",
       "      <td>NaN</td>\n",
       "      <td>tbd</td>\n",
       "      <td>NaN</td>\n",
       "      <td>Dreamcatcher</td>\n",
       "      <td>E</td>\n",
       "    </tr>\n",
       "    <tr>\n",
       "      <th>3</th>\n",
       "      <td>Nitrobike</td>\n",
       "      <td>Wii</td>\n",
       "      <td>2008.0</td>\n",
       "      <td>Racing</td>\n",
       "      <td>Ubisoft</td>\n",
       "      <td>0.11</td>\n",
       "      <td>0.01</td>\n",
       "      <td>0.0</td>\n",
       "      <td>49.0</td>\n",
       "      <td>22.0</td>\n",
       "      <td>7.1</td>\n",
       "      <td>7.0</td>\n",
       "      <td>Left Field Productions</td>\n",
       "      <td>E10+</td>\n",
       "    </tr>\n",
       "    <tr>\n",
       "      <th>4</th>\n",
       "      <td>Cruise Ship Vacation Games</td>\n",
       "      <td>Wii</td>\n",
       "      <td>2009.0</td>\n",
       "      <td>Puzzle</td>\n",
       "      <td>Avanquest</td>\n",
       "      <td>0.12</td>\n",
       "      <td>0.00</td>\n",
       "      <td>0.0</td>\n",
       "      <td>NaN</td>\n",
       "      <td>NaN</td>\n",
       "      <td>tbd</td>\n",
       "      <td>NaN</td>\n",
       "      <td>Activision</td>\n",
       "      <td>E</td>\n",
       "    </tr>\n",
       "  </tbody>\n",
       "</table>\n",
       "</div>"
      ],
      "text/plain": [
       "                                    Name Platform    Year     Genre  \\\n",
       "0                         Nicktoons: MLB     X360  2011.0    Sports   \n",
       "1  Shonen Jump's One Piece: Grand Battle      PS2  2005.0  Fighting   \n",
       "2                             Learn Math       DS  2009.0    Puzzle   \n",
       "3                              Nitrobike      Wii  2008.0    Racing   \n",
       "4             Cruise Ship Vacation Games      Wii  2009.0    Puzzle   \n",
       "\n",
       "                  Publisher    NA    EU   JP  Critic_Score  Critic_Count  \\\n",
       "0      Take-Two Interactive  0.12  0.00  0.0           NaN           NaN   \n",
       "1                     Atari  0.07  0.05  0.0           NaN           NaN   \n",
       "2  DreamCatcher Interactive  0.12  0.00  0.0           NaN           NaN   \n",
       "3                   Ubisoft  0.11  0.01  0.0          49.0          22.0   \n",
       "4                 Avanquest  0.12  0.00  0.0           NaN           NaN   \n",
       "\n",
       "  User_Score  User_Count               Developer Rating  \n",
       "0        7.6         7.0   High Voltage Software      E  \n",
       "1        NaN         NaN                     NaN    NaN  \n",
       "2        tbd         NaN            Dreamcatcher      E  \n",
       "3        7.1         7.0  Left Field Productions   E10+  \n",
       "4        tbd         NaN              Activision      E  "
      ]
     },
     "execution_count": 12,
     "metadata": {},
     "output_type": "execute_result"
    }
   ],
   "source": [
    "df_test.head()"
   ]
  },
  {
   "cell_type": "code",
   "execution_count": 13,
   "id": "312f4c7b",
   "metadata": {},
   "outputs": [
    {
     "data": {
      "text/plain": [
       "(2143, 14)"
      ]
     },
     "execution_count": 13,
     "metadata": {},
     "output_type": "execute_result"
    }
   ],
   "source": [
    "df_test.shape"
   ]
  },
  {
   "cell_type": "markdown",
   "id": "04771660",
   "metadata": {},
   "source": [
    "#### Filling the prediction set with median because we need the same amount of rows "
   ]
  },
  {
   "cell_type": "code",
   "execution_count": 14,
   "id": "d0b6a1cf",
   "metadata": {},
   "outputs": [
    {
     "name": "stdout",
     "output_type": "stream",
     "text": [
      "2008.0\n"
     ]
    }
   ],
   "source": [
    "median = df_test['Year'].median()\n",
    "print(median)"
   ]
  },
  {
   "cell_type": "code",
   "execution_count": 15,
   "id": "259f7a9a",
   "metadata": {},
   "outputs": [],
   "source": [
    "df_test['Year'] = df_test['Year'].fillna(median)"
   ]
  },
  {
   "cell_type": "code",
   "execution_count": 16,
   "id": "c9342178",
   "metadata": {
    "scrolled": true
   },
   "outputs": [
    {
     "name": "stdout",
     "output_type": "stream",
     "text": [
      "Your selected dataframe has 15 columns.\n",
      "There are 6 columns that have missing values.\n"
     ]
    },
    {
     "data": {
      "text/html": [
       "<div>\n",
       "<style scoped>\n",
       "    .dataframe tbody tr th:only-of-type {\n",
       "        vertical-align: middle;\n",
       "    }\n",
       "\n",
       "    .dataframe tbody tr th {\n",
       "        vertical-align: top;\n",
       "    }\n",
       "\n",
       "    .dataframe thead th {\n",
       "        text-align: right;\n",
       "    }\n",
       "</style>\n",
       "<table border=\"1\" class=\"dataframe\">\n",
       "  <thead>\n",
       "    <tr style=\"text-align: right;\">\n",
       "      <th></th>\n",
       "      <th>Missing Values</th>\n",
       "      <th>% of Total Values</th>\n",
       "    </tr>\n",
       "  </thead>\n",
       "  <tbody>\n",
       "    <tr>\n",
       "      <th>User_Count</th>\n",
       "      <td>7629</td>\n",
       "      <td>53.3</td>\n",
       "    </tr>\n",
       "    <tr>\n",
       "      <th>Critic_Score</th>\n",
       "      <td>7229</td>\n",
       "      <td>50.5</td>\n",
       "    </tr>\n",
       "    <tr>\n",
       "      <th>Critic_Count</th>\n",
       "      <td>7229</td>\n",
       "      <td>50.5</td>\n",
       "    </tr>\n",
       "    <tr>\n",
       "      <th>Rating</th>\n",
       "      <td>5762</td>\n",
       "      <td>40.3</td>\n",
       "    </tr>\n",
       "    <tr>\n",
       "      <th>User_Score</th>\n",
       "      <td>5702</td>\n",
       "      <td>39.8</td>\n",
       "    </tr>\n",
       "    <tr>\n",
       "      <th>Developer</th>\n",
       "      <td>5645</td>\n",
       "      <td>39.4</td>\n",
       "    </tr>\n",
       "  </tbody>\n",
       "</table>\n",
       "</div>"
      ],
      "text/plain": [
       "              Missing Values  % of Total Values\n",
       "User_Count              7629               53.3\n",
       "Critic_Score            7229               50.5\n",
       "Critic_Count            7229               50.5\n",
       "Rating                  5762               40.3\n",
       "User_Score              5702               39.8\n",
       "Developer               5645               39.4"
      ]
     },
     "execution_count": 16,
     "metadata": {},
     "output_type": "execute_result"
    }
   ],
   "source": [
    "missing_values_table(df_train)"
   ]
  },
  {
   "cell_type": "code",
   "execution_count": 17,
   "id": "d23ffb03",
   "metadata": {},
   "outputs": [
    {
     "name": "stdout",
     "output_type": "stream",
     "text": [
      "Your selected dataframe has 14 columns.\n",
      "There are 6 columns that have missing values.\n"
     ]
    },
    {
     "data": {
      "text/html": [
       "<div>\n",
       "<style scoped>\n",
       "    .dataframe tbody tr th:only-of-type {\n",
       "        vertical-align: middle;\n",
       "    }\n",
       "\n",
       "    .dataframe tbody tr th {\n",
       "        vertical-align: top;\n",
       "    }\n",
       "\n",
       "    .dataframe thead th {\n",
       "        text-align: right;\n",
       "    }\n",
       "</style>\n",
       "<table border=\"1\" class=\"dataframe\">\n",
       "  <thead>\n",
       "    <tr style=\"text-align: right;\">\n",
       "      <th></th>\n",
       "      <th>Missing Values</th>\n",
       "      <th>% of Total Values</th>\n",
       "    </tr>\n",
       "  </thead>\n",
       "  <tbody>\n",
       "    <tr>\n",
       "      <th>User_Count</th>\n",
       "      <td>1349</td>\n",
       "      <td>62.9</td>\n",
       "    </tr>\n",
       "    <tr>\n",
       "      <th>Critic_Score</th>\n",
       "      <td>1223</td>\n",
       "      <td>57.1</td>\n",
       "    </tr>\n",
       "    <tr>\n",
       "      <th>Critic_Count</th>\n",
       "      <td>1223</td>\n",
       "      <td>57.1</td>\n",
       "    </tr>\n",
       "    <tr>\n",
       "      <th>Rating</th>\n",
       "      <td>897</td>\n",
       "      <td>41.9</td>\n",
       "    </tr>\n",
       "    <tr>\n",
       "      <th>User_Score</th>\n",
       "      <td>888</td>\n",
       "      <td>41.4</td>\n",
       "    </tr>\n",
       "    <tr>\n",
       "      <th>Developer</th>\n",
       "      <td>876</td>\n",
       "      <td>40.9</td>\n",
       "    </tr>\n",
       "  </tbody>\n",
       "</table>\n",
       "</div>"
      ],
      "text/plain": [
       "              Missing Values  % of Total Values\n",
       "User_Count              1349               62.9\n",
       "Critic_Score            1223               57.1\n",
       "Critic_Count            1223               57.1\n",
       "Rating                   897               41.9\n",
       "User_Score               888               41.4\n",
       "Developer                876               40.9"
      ]
     },
     "execution_count": 17,
     "metadata": {},
     "output_type": "execute_result"
    }
   ],
   "source": [
    "missing_values_table(df_test)"
   ]
  },
  {
   "cell_type": "markdown",
   "id": "f121452c",
   "metadata": {},
   "source": [
    "Successfully dropped the rows & replaced the values in df_test"
   ]
  },
  {
   "cell_type": "code",
   "execution_count": 2,
   "id": "340a1fbc",
   "metadata": {
    "scrolled": true
   },
   "outputs": [],
   "source": [
    "## Lets replace the object type columns with `No _____`\n",
    "\n",
    "df_train['Rating'].fillna('No Rating', inplace = True)\n",
    "df_train['Developer'].fillna('No Developer', inplace = True)\n",
    "missing_values_table(df_train)"
   ]
  },
  {
   "cell_type": "code",
   "execution_count": 19,
   "id": "c7e073ba",
   "metadata": {},
   "outputs": [
    {
     "name": "stdout",
     "output_type": "stream",
     "text": [
      "Your selected dataframe has 14 columns.\n",
      "There are 4 columns that have missing values.\n"
     ]
    },
    {
     "data": {
      "text/html": [
       "<div>\n",
       "<style scoped>\n",
       "    .dataframe tbody tr th:only-of-type {\n",
       "        vertical-align: middle;\n",
       "    }\n",
       "\n",
       "    .dataframe tbody tr th {\n",
       "        vertical-align: top;\n",
       "    }\n",
       "\n",
       "    .dataframe thead th {\n",
       "        text-align: right;\n",
       "    }\n",
       "</style>\n",
       "<table border=\"1\" class=\"dataframe\">\n",
       "  <thead>\n",
       "    <tr style=\"text-align: right;\">\n",
       "      <th></th>\n",
       "      <th>Missing Values</th>\n",
       "      <th>% of Total Values</th>\n",
       "    </tr>\n",
       "  </thead>\n",
       "  <tbody>\n",
       "    <tr>\n",
       "      <th>User_Count</th>\n",
       "      <td>1349</td>\n",
       "      <td>62.9</td>\n",
       "    </tr>\n",
       "    <tr>\n",
       "      <th>Critic_Score</th>\n",
       "      <td>1223</td>\n",
       "      <td>57.1</td>\n",
       "    </tr>\n",
       "    <tr>\n",
       "      <th>Critic_Count</th>\n",
       "      <td>1223</td>\n",
       "      <td>57.1</td>\n",
       "    </tr>\n",
       "    <tr>\n",
       "      <th>User_Score</th>\n",
       "      <td>888</td>\n",
       "      <td>41.4</td>\n",
       "    </tr>\n",
       "  </tbody>\n",
       "</table>\n",
       "</div>"
      ],
      "text/plain": [
       "              Missing Values  % of Total Values\n",
       "User_Count              1349               62.9\n",
       "Critic_Score            1223               57.1\n",
       "Critic_Count            1223               57.1\n",
       "User_Score               888               41.4"
      ]
     },
     "execution_count": 19,
     "metadata": {},
     "output_type": "execute_result"
    }
   ],
   "source": [
    "df_test['Rating'].fillna('No Rating', inplace = True)\n",
    "df_test['Developer'].fillna('No Developer', inplace = True)\n",
    "missing_values_table(df_test)"
   ]
  },
  {
   "cell_type": "markdown",
   "id": "771d65e4",
   "metadata": {},
   "source": [
    "We will use KNN to replace the numerical columns"
   ]
  },
  {
   "cell_type": "code",
   "execution_count": 20,
   "id": "f0d6c846",
   "metadata": {},
   "outputs": [
    {
     "data": {
      "text/plain": [
       "0    2006\n",
       "1    1985\n",
       "2    2008\n",
       "3    2009\n",
       "4    1996\n",
       "Name: Year, dtype: int32"
      ]
     },
     "execution_count": 20,
     "metadata": {},
     "output_type": "execute_result"
    }
   ],
   "source": [
    "## Removing the decimal places for year\n",
    "df_train['Year'] = df_train['Year'].astype(str).apply(lambda x: x.replace('.0',''))\n",
    "df_train['Year'] = df_train['Year'].astype(int)\n",
    "df_train['Year'].head()"
   ]
  },
  {
   "cell_type": "code",
   "execution_count": 21,
   "id": "e6b4a454",
   "metadata": {},
   "outputs": [
    {
     "data": {
      "text/plain": [
       "0    2011\n",
       "1    2005\n",
       "2    2009\n",
       "3    2008\n",
       "4    2009\n",
       "Name: Year, dtype: int32"
      ]
     },
     "execution_count": 21,
     "metadata": {},
     "output_type": "execute_result"
    }
   ],
   "source": [
    "df_test['Year'] = df_test['Year'].astype(str).apply(lambda x: x.replace('.0',''))\n",
    "df_test['Year'] = df_test['Year'].astype(int)\n",
    "df_test['Year'].head()"
   ]
  },
  {
   "cell_type": "markdown",
   "id": "90c2734c",
   "metadata": {},
   "source": [
    "# Understanding the data with visualization"
   ]
  },
  {
   "cell_type": "code",
   "execution_count": 22,
   "id": "89cb67bd",
   "metadata": {},
   "outputs": [
    {
     "data": {
      "image/png": "[encoded data removed]",
      "text/plain": [
       "<Figure size 432x288 with 1 Axes>"
      ]
     },
     "metadata": {
      "needs_background": "light"
     },
     "output_type": "display_data"
    }
   ],
   "source": [
    "# Histogram plot of Year of release\n",
    "# num_years = df_train['Year'].max() - df_train['Year'].min() + 1\n",
    "plt.hist(df_train['Year'], bins=30, color=\"lightskyblue\", edgecolor=\"black\")\n",
    "plt.title(\"Distribution of year of release\")\n",
    "plt.xlabel(\"Year\")\n",
    "plt.ylabel(\"Number of games\");"
   ]
  },
  {
   "cell_type": "markdown",
   "id": "70d31111",
   "metadata": {},
   "source": [
    "#### Interpretation:\n",
    "\n",
    "We can see an increase in number of games produced each over the years as the number of developers and producers have increased, and also with the rise of streaming"
   ]
  },
  {
   "cell_type": "code",
   "execution_count": 23,
   "id": "0a5bee75",
   "metadata": {},
   "outputs": [
    {
     "name": "stdout",
     "output_type": "stream",
     "text": [
      "<class 'pandas.core.frame.DataFrame'>\n",
      "Int64Index: 14312 entries, 0 to 14573\n",
      "Data columns (total 15 columns):\n",
      " #   Column        Non-Null Count  Dtype  \n",
      "---  ------        --------------  -----  \n",
      " 0   Name          14312 non-null  object \n",
      " 1   Platform      14312 non-null  object \n",
      " 2   Year          14312 non-null  int32  \n",
      " 3   Genre         14312 non-null  object \n",
      " 4   Publisher     14312 non-null  object \n",
      " 5   NA            14312 non-null  float64\n",
      " 6   EU            14312 non-null  float64\n",
      " 7   JP            14312 non-null  float64\n",
      " 8   Critic_Score  7083 non-null   float64\n",
      " 9   Critic_Count  7083 non-null   float64\n",
      " 10  User_Score    8610 non-null   object \n",
      " 11  User_Count    6683 non-null   float64\n",
      " 12  Developer     14312 non-null  object \n",
      " 13  Rating        14312 non-null  object \n",
      " 14  Global        14312 non-null  float64\n",
      "dtypes: float64(7), int32(1), object(7)\n",
      "memory usage: 1.7+ MB\n"
     ]
    }
   ],
   "source": [
    "df_train.info()"
   ]
  },
  {
   "cell_type": "code",
   "execution_count": 24,
   "id": "e54bcf99",
   "metadata": {},
   "outputs": [
    {
     "name": "stdout",
     "output_type": "stream",
     "text": [
      "<class 'pandas.core.frame.DataFrame'>\n",
      "Int64Index: 14312 entries, 0 to 14573\n",
      "Data columns (total 15 columns):\n",
      " #   Column        Non-Null Count  Dtype  \n",
      "---  ------        --------------  -----  \n",
      " 0   Name          14312 non-null  object \n",
      " 1   Platform      14312 non-null  object \n",
      " 2   Year          14312 non-null  int32  \n",
      " 3   Genre         14312 non-null  object \n",
      " 4   Publisher     14312 non-null  object \n",
      " 5   NA            14312 non-null  float64\n",
      " 6   EU            14312 non-null  float64\n",
      " 7   JP            14312 non-null  float64\n",
      " 8   Critic_Score  7083 non-null   float64\n",
      " 9   Critic_Count  7083 non-null   float64\n",
      " 10  User_Score    6683 non-null   float64\n",
      " 11  User_Count    6683 non-null   float64\n",
      " 12  Developer     14312 non-null  object \n",
      " 13  Rating        14312 non-null  object \n",
      " 14  Global        14312 non-null  float64\n",
      "dtypes: float64(8), int32(1), object(6)\n",
      "memory usage: 1.7+ MB\n"
     ]
    }
   ],
   "source": [
    "df_train[\"User_Score\"] = df_train[\"User_Score\"].replace(\"tbd\", np.nan).astype(float)\n",
    "df_train.info()"
   ]
  },
  {
   "cell_type": "code",
   "execution_count": 25,
   "id": "3e21aed3",
   "metadata": {},
   "outputs": [
    {
     "name": "stdout",
     "output_type": "stream",
     "text": [
      "<class 'pandas.core.frame.DataFrame'>\n",
      "RangeIndex: 2143 entries, 0 to 2142\n",
      "Data columns (total 14 columns):\n",
      " #   Column        Non-Null Count  Dtype  \n",
      "---  ------        --------------  -----  \n",
      " 0   Name          2143 non-null   object \n",
      " 1   Platform      2143 non-null   object \n",
      " 2   Year          2143 non-null   int32  \n",
      " 3   Genre         2143 non-null   object \n",
      " 4   Publisher     2143 non-null   object \n",
      " 5   NA            2143 non-null   float64\n",
      " 6   EU            2143 non-null   float64\n",
      " 7   JP            2143 non-null   float64\n",
      " 8   Critic_Score  920 non-null    float64\n",
      " 9   Critic_Count  920 non-null    float64\n",
      " 10  User_Score    794 non-null    float64\n",
      " 11  User_Count    794 non-null    float64\n",
      " 12  Developer     2143 non-null   object \n",
      " 13  Rating        2143 non-null   object \n",
      "dtypes: float64(7), int32(1), object(6)\n",
      "memory usage: 226.1+ KB\n"
     ]
    }
   ],
   "source": [
    "df_test[\"User_Score\"] = df_test[\"User_Score\"].replace(\"tbd\", np.nan).astype(float)\n",
    "df_test.info()"
   ]
  },
  {
   "cell_type": "markdown",
   "id": "92952054",
   "metadata": {},
   "source": [
    "## Outlier detection\n",
    "\n",
    "We have following numerical categories: `NA`, `EU`, `JP`, `Critic_score`, `Critic_Count`, `User_Score`, `User_Count` \n",
    "\n",
    "To understand their data I will plot 2 graphs:\n",
    "1. Distplot: To understand the skewness\n",
    "2. Boxplot: To understand the outliers, if any"
   ]
  },
  {
   "cell_type": "code",
   "execution_count": 26,
   "id": "7ddb6495",
   "metadata": {},
   "outputs": [
    {
     "data": {
      "image/png": "[encoded data removed]",
      "text/plain": [
       "<Figure size 720x576 with 2 Axes>"
      ]
     },
     "metadata": {
      "needs_background": "light"
     },
     "output_type": "display_data"
    }
   ],
   "source": [
    "## Outlier detection for Sales in NA\n",
    "fig,ax = plt.subplots(1,2,figsize=(10,8))\n",
    "ax1,ax2 = ax.flatten()\n",
    "sns.distplot(df_train['NA'],bins=30,color='red',ax=ax1);\n",
    "sns.boxplot(df_train['NA'],ax=ax2);"
   ]
  },
  {
   "cell_type": "code",
   "execution_count": 27,
   "id": "7b7f558d",
   "metadata": {},
   "outputs": [
    {
     "data": {
      "image/png": "[encoded data removed]",
      "text/plain": [
       "<Figure size 720x576 with 2 Axes>"
      ]
     },
     "metadata": {
      "needs_background": "light"
     },
     "output_type": "display_data"
    }
   ],
   "source": [
    "fig,ax = plt.subplots(1,2,figsize=(10,8))\n",
    "ax1,ax2 = ax.flatten()\n",
    "sns.distplot(df_train['EU'],bins=30,color='red',ax=ax1);\n",
    "sns.boxplot(df_train['EU'],ax=ax2);"
   ]
  },
  {
   "cell_type": "code",
   "execution_count": 28,
   "id": "543aeb77",
   "metadata": {},
   "outputs": [
    {
     "data": {
      "image/png": "[encoded data removed]",
      "text/plain": [
       "<Figure size 720x576 with 2 Axes>"
      ]
     },
     "metadata": {
      "needs_background": "light"
     },
     "output_type": "display_data"
    }
   ],
   "source": [
    "fig,ax = plt.subplots(1,2,figsize=(10,8))\n",
    "ax1,ax2 = ax.flatten()\n",
    "sns.distplot(df_train['JP'],bins=30,color='red',ax=ax1);\n",
    "sns.boxplot(df_train['JP'],ax=ax2);"
   ]
  },
  {
   "cell_type": "code",
   "execution_count": 29,
   "id": "fcd1fd54",
   "metadata": {},
   "outputs": [
    {
     "data": {
      "image/png": "[encoded data removed]",
      "text/plain": [
       "<Figure size 720x576 with 2 Axes>"
      ]
     },
     "metadata": {
      "needs_background": "light"
     },
     "output_type": "display_data"
    }
   ],
   "source": [
    "fig,ax = plt.subplots(1,2,figsize=(10,8))\n",
    "ax1,ax2 = ax.flatten()\n",
    "sns.distplot(df_train['Critic_Score'],bins=30,color='red',ax=ax1);\n",
    "sns.boxplot(df_train['Critic_Score'],ax=ax2);"
   ]
  },
  {
   "cell_type": "code",
   "execution_count": 30,
   "id": "4036bd5d",
   "metadata": {},
   "outputs": [
    {
     "data": {
      "image/png": "[encoded data removed]",
      "text/plain": [
       "<Figure size 720x576 with 2 Axes>"
      ]
     },
     "metadata": {
      "needs_background": "light"
     },
     "output_type": "display_data"
    }
   ],
   "source": [
    "fig,ax = plt.subplots(1,2,figsize=(10,8))\n",
    "ax1,ax2 = ax.flatten()\n",
    "sns.distplot(df_train['Critic_Count'],bins=30,color='red',ax=ax1);\n",
    "sns.boxplot(df_train['Critic_Count'],ax=ax2);"
   ]
  },
  {
   "cell_type": "code",
   "execution_count": 31,
   "id": "aee8860d",
   "metadata": {},
   "outputs": [
    {
     "data": {
      "image/png": "[encoded data removed]",
      "text/plain": [
       "<Figure size 720x576 with 2 Axes>"
      ]
     },
     "metadata": {
      "needs_background": "light"
     },
     "output_type": "display_data"
    }
   ],
   "source": [
    "fig,ax = plt.subplots(1,2,figsize=(10,8))\n",
    "ax1,ax2 = ax.flatten()\n",
    "sns.distplot(df_train['User_Count'],bins=30,color='red',ax=ax1);\n",
    "sns.boxplot(df_train['User_Count'],ax=ax2);"
   ]
  },
  {
   "cell_type": "code",
   "execution_count": 32,
   "id": "ae5b29ea",
   "metadata": {},
   "outputs": [
    {
     "data": {
      "image/png": "[encoded data removed]",
      "text/plain": [
       "<Figure size 720x576 with 2 Axes>"
      ]
     },
     "metadata": {
      "needs_background": "light"
     },
     "output_type": "display_data"
    }
   ],
   "source": [
    "fig,ax = plt.subplots(1,2,figsize=(10,8))\n",
    "ax1,ax2 = ax.flatten()\n",
    "sns.distplot(df_train['User_Score'],bins=30,color='red',ax=ax1);\n",
    "sns.boxplot(df_train['User_Score'],ax=ax2);"
   ]
  },
  {
   "cell_type": "markdown",
   "id": "ffdbea2b",
   "metadata": {},
   "source": [
    "#### Imputing Outliers"
   ]
  },
  {
   "cell_type": "code",
   "execution_count": 33,
   "id": "3f926488",
   "metadata": {},
   "outputs": [
    {
     "data": {
      "image/png": "[encoded data removed]",
      "text/plain": [
       "<Figure size 432x288 with 1 Axes>"
      ]
     },
     "metadata": {
      "needs_background": "light"
     },
     "output_type": "display_data"
    },
    {
     "data": {
      "image/png": "[encoded data removed]",
      "text/plain": [
       "<Figure size 432x288 with 1 Axes>"
      ]
     },
     "metadata": {
      "needs_background": "light"
     },
     "output_type": "display_data"
    }
   ],
   "source": [
    "sns.boxplot(df_train['User_Score'])\n",
    "plt.title(\"Box Plot before imputation\")\n",
    "plt.show()\n",
    "q1 = df_train['User_Score'].quantile(0.25)\n",
    "q3 = df_train['User_Score'].quantile(0.75)\n",
    "iqr = q3-q1\n",
    "qf, ql = np.percentile(df_train['User_Score'], [1,99])\n",
    "Lower_tail = q1 - 1.5 * iqr\n",
    "Upper_tail = q3 + 1.5 * iqr\n",
    "for i in df_train['User_Score']:\n",
    "    if i > Upper_tail:\n",
    "        df_train['User_Score'] = df_train['User_Score'].replace(i, ql)\n",
    "    elif i < Lower_tail:\n",
    "        df_train['User_Score'] = df_train['User_Score'].replace(i, qf)\n",
    "sns.boxplot(df_train['User_Score'])\n",
    "plt.title(\"Box Plot after imputation\")\n",
    "plt.show()   "
   ]
  },
  {
   "cell_type": "code",
   "execution_count": 34,
   "id": "a26ce3a0",
   "metadata": {},
   "outputs": [
    {
     "data": {
      "image/png": "[encoded data removed]",
      "text/plain": [
       "<Figure size 432x288 with 1 Axes>"
      ]
     },
     "metadata": {
      "needs_background": "light"
     },
     "output_type": "display_data"
    },
    {
     "data": {
      "image/png": "[encoded data removed]",
      "text/plain": [
       "<Figure size 432x288 with 1 Axes>"
      ]
     },
     "metadata": {
      "needs_background": "light"
     },
     "output_type": "display_data"
    }
   ],
   "source": [
    "sns.boxplot(df_train['User_Score'])\n",
    "plt.title(\"Box Plot before imputation\")\n",
    "plt.show()\n",
    "q1 = df_train['User_Score'].quantile(0.25)\n",
    "q3 = df_train['User_Score'].quantile(0.75)\n",
    "iqr = q3-q1\n",
    "qf, ql = np.percentile(df_train['User_Score'], [1,99])\n",
    "Lower_tail = q1 - 1.5 * iqr\n",
    "Upper_tail = q3 + 1.5 * iqr\n",
    "for i in df_train['User_Score']:\n",
    "    if i > Upper_tail:\n",
    "        df_train['User_Score'] = df_train['User_Score'].replace(i, ql)\n",
    "    elif i < Lower_tail:\n",
    "        df_train['User_Score'] = df_train['User_Score'].replace(i, qf)\n",
    "sns.boxplot(df_train['User_Score'])\n",
    "plt.title(\"Box Plot after imputation\")\n",
    "plt.show()   "
   ]
  },
  {
   "cell_type": "code",
   "execution_count": 35,
   "id": "6bfc7655",
   "metadata": {},
   "outputs": [
    {
     "data": {
      "image/png": "[encoded data removed]",
      "text/plain": [
       "<Figure size 432x288 with 1 Axes>"
      ]
     },
     "metadata": {
      "needs_background": "light"
     },
     "output_type": "display_data"
    },
    {
     "data": {
      "image/png": "[encoded data removed]",
      "text/plain": [
       "<Figure size 432x288 with 1 Axes>"
      ]
     },
     "metadata": {
      "needs_background": "light"
     },
     "output_type": "display_data"
    }
   ],
   "source": [
    "sns.boxplot(df_train['User_Count'])\n",
    "plt.title(\"Box Plot before imputation\")\n",
    "plt.show()\n",
    "q1 = df_train['User_Count'].quantile(0.25)\n",
    "q3 = df_train['User_Count'].quantile(0.75)\n",
    "iqr = q3-q1\n",
    "qf, ql = np.percentile(df_train['User_Count'], [1,99])\n",
    "Lower_tail = q1 - 1.5 * iqr\n",
    "Upper_tail = q3 + 1.5 * iqr\n",
    "for i in df_train['User_Count']:\n",
    "    if i > Upper_tail:\n",
    "        df_train['User_Count'] = df_train['User_Count'].replace(i, ql)\n",
    "    elif i < Lower_tail:\n",
    "        df_train['User_Count'] = df_train['User_Count'].replace(i, qf)\n",
    "sns.boxplot(df_train['User_Count'])\n",
    "plt.title(\"Box Plot after imputation\")\n",
    "plt.show()  "
   ]
  },
  {
   "cell_type": "code",
   "execution_count": 36,
   "id": "4b3e988e",
   "metadata": {},
   "outputs": [
    {
     "data": {
      "image/png": "[encoded data removed]",
      "text/plain": [
       "<Figure size 432x288 with 1 Axes>"
      ]
     },
     "metadata": {
      "needs_background": "light"
     },
     "output_type": "display_data"
    },
    {
     "data": {
      "image/png": "[encoded data removed]",
      "text/plain": [
       "<Figure size 432x288 with 1 Axes>"
      ]
     },
     "metadata": {
      "needs_background": "light"
     },
     "output_type": "display_data"
    }
   ],
   "source": [
    "sns.boxplot(df_train['User_Count'])\n",
    "plt.title(\"Box Plot before imputation\")\n",
    "plt.show()\n",
    "q1 = df_train['User_Count'].quantile(0.25)\n",
    "q3 = df_train['User_Count'].quantile(0.75)\n",
    "iqr = q3-q1\n",
    "qf, ql = np.percentile(df_train['User_Count'], [1,99])\n",
    "Lower_tail = q1 - 1.5 * iqr\n",
    "Upper_tail = q3 + 1.5 * iqr\n",
    "for i in df_train['User_Count']:\n",
    "    if i > Upper_tail:\n",
    "        df_train['User_Count'] = df_train['User_Count'].replace(i, ql)\n",
    "    elif i < Lower_tail:\n",
    "        df_train['User_Count'] = df_train['User_Count'].replace(i, qf)\n",
    "sns.boxplot(df_train['User_Count'])\n",
    "plt.title(\"Box Plot after imputation\")\n",
    "plt.show()  "
   ]
  },
  {
   "cell_type": "code",
   "execution_count": 37,
   "id": "fee0a879",
   "metadata": {},
   "outputs": [
    {
     "data": {
      "image/png": "[encoded data removed]",
      "text/plain": [
       "<Figure size 432x288 with 1 Axes>"
      ]
     },
     "metadata": {
      "needs_background": "light"
     },
     "output_type": "display_data"
    },
    {
     "data": {
      "image/png": "[encoded data removed]",
      "text/plain": [
       "<Figure size 432x288 with 1 Axes>"
      ]
     },
     "metadata": {
      "needs_background": "light"
     },
     "output_type": "display_data"
    }
   ],
   "source": [
    "sns.boxplot(df_train['User_Count'])\n",
    "plt.title(\"Box Plot before imputation\")\n",
    "plt.show()\n",
    "q1 = df_train['User_Count'].quantile(0.25)\n",
    "q3 = df_train['User_Count'].quantile(0.75)\n",
    "iqr = q3-q1\n",
    "qf, ql = np.percentile(df_train['User_Count'], [1,99])\n",
    "Lower_tail = q1 - 1.5 * iqr\n",
    "Upper_tail = q3 + 1.5 * iqr\n",
    "for i in df_train['User_Count']:\n",
    "    if i > Upper_tail:\n",
    "        df_train['User_Count'] = df_train['User_Count'].replace(i, ql)\n",
    "    elif i < Lower_tail:\n",
    "        df_train['User_Count'] = df_train['User_Count'].replace(i, qf)\n",
    "sns.boxplot(df_train['User_Count'])\n",
    "plt.title(\"Box Plot after imputation\")\n",
    "plt.show()  "
   ]
  },
  {
   "cell_type": "code",
   "execution_count": 38,
   "id": "9f69d439",
   "metadata": {},
   "outputs": [
    {
     "data": {
      "image/png": "[encoded data removed]",
      "text/plain": [
       "<Figure size 432x288 with 1 Axes>"
      ]
     },
     "metadata": {
      "needs_background": "light"
     },
     "output_type": "display_data"
    },
    {
     "data": {
      "image/png": "[encoded data removed]",
      "text/plain": [
       "<Figure size 432x288 with 1 Axes>"
      ]
     },
     "metadata": {
      "needs_background": "light"
     },
     "output_type": "display_data"
    }
   ],
   "source": [
    "sns.boxplot(df_train['User_Count'])\n",
    "plt.title(\"Box Plot before imputation\")\n",
    "plt.show()\n",
    "q1 = df_train['User_Count'].quantile(0.25)\n",
    "q3 = df_train['User_Count'].quantile(0.75)\n",
    "iqr = q3-q1\n",
    "qf, ql = np.percentile(df_train['User_Count'], [1,99])\n",
    "Lower_tail = q1 - 1.5 * iqr\n",
    "Upper_tail = q3 + 1.5 * iqr\n",
    "for i in df_train['User_Count']:\n",
    "    if i > Upper_tail:\n",
    "        df_train['User_Count'] = df_train['User_Count'].replace(i, ql)\n",
    "    elif i < Lower_tail:\n",
    "        df_train['User_Count'] = df_train['User_Count'].replace(i, qf)\n",
    "sns.boxplot(df_train['User_Count'])\n",
    "plt.title(\"Box Plot after imputation\")\n",
    "plt.show()  "
   ]
  },
  {
   "cell_type": "code",
   "execution_count": 39,
   "id": "3cd8895f",
   "metadata": {},
   "outputs": [
    {
     "data": {
      "image/png": "[encoded data removed]",
      "text/plain": [
       "<Figure size 432x288 with 1 Axes>"
      ]
     },
     "metadata": {
      "needs_background": "light"
     },
     "output_type": "display_data"
    },
    {
     "data": {
      "image/png": "[encoded data removed]",
      "text/plain": [
       "<Figure size 432x288 with 1 Axes>"
      ]
     },
     "metadata": {
      "needs_background": "light"
     },
     "output_type": "display_data"
    }
   ],
   "source": [
    "sns.boxplot(df_train['User_Count'])\n",
    "plt.title(\"Box Plot before imputation\")\n",
    "plt.show()\n",
    "q1 = df_train['User_Count'].quantile(0.25)\n",
    "q3 = df_train['User_Count'].quantile(0.75)\n",
    "iqr = q3-q1\n",
    "qf, ql = np.percentile(df_train['User_Count'], [1,99])\n",
    "Lower_tail = q1 - 1.5 * iqr\n",
    "Upper_tail = q3 + 1.5 * iqr\n",
    "for i in df_train['User_Count']:\n",
    "    if i > Upper_tail:\n",
    "        df_train['User_Count'] = df_train['User_Count'].replace(i, ql)\n",
    "    elif i < Lower_tail:\n",
    "        df_train['User_Count'] = df_train['User_Count'].replace(i, qf)\n",
    "sns.boxplot(df_train['User_Count'])\n",
    "plt.title(\"Box Plot after imputation\")\n",
    "plt.show()  "
   ]
  },
  {
   "cell_type": "code",
   "execution_count": 40,
   "id": "aca881ea",
   "metadata": {},
   "outputs": [
    {
     "data": {
      "image/png": "[encoded data removed]",
      "text/plain": [
       "<Figure size 432x288 with 1 Axes>"
      ]
     },
     "metadata": {
      "needs_background": "light"
     },
     "output_type": "display_data"
    },
    {
     "data": {
      "image/png": "[encoded data removed]",
      "text/plain": [
       "<Figure size 432x288 with 1 Axes>"
      ]
     },
     "metadata": {
      "needs_background": "light"
     },
     "output_type": "display_data"
    }
   ],
   "source": [
    "sns.boxplot(df_train['User_Count'])\n",
    "plt.title(\"Box Plot before imputation\")\n",
    "plt.show()\n",
    "q1 = df_train['User_Count'].quantile(0.25)\n",
    "q3 = df_train['User_Count'].quantile(0.75)\n",
    "iqr = q3-q1\n",
    "qf, ql = np.percentile(df_train['User_Count'], [1,99])\n",
    "Lower_tail = q1 - 1.5 * iqr\n",
    "Upper_tail = q3 + 1.5 * iqr\n",
    "for i in df_train['User_Count']:\n",
    "    if i > Upper_tail:\n",
    "        df_train['User_Count'] = df_train['User_Count'].replace(i, ql)\n",
    "    elif i < Lower_tail:\n",
    "        df_train['User_Count'] = df_train['User_Count'].replace(i, qf)\n",
    "sns.boxplot(df_train['User_Count'])\n",
    "plt.title(\"Box Plot after imputation\")\n",
    "plt.show()  "
   ]
  },
  {
   "cell_type": "code",
   "execution_count": 41,
   "id": "f23ed81a",
   "metadata": {},
   "outputs": [
    {
     "data": {
      "image/png": "[encoded data removed]",
      "text/plain": [
       "<Figure size 432x288 with 1 Axes>"
      ]
     },
     "metadata": {
      "needs_background": "light"
     },
     "output_type": "display_data"
    },
    {
     "data": {
      "image/png": "[encoded data removed]",
      "text/plain": [
       "<Figure size 432x288 with 1 Axes>"
      ]
     },
     "metadata": {
      "needs_background": "light"
     },
     "output_type": "display_data"
    }
   ],
   "source": [
    "sns.boxplot(df_train['User_Count'])\n",
    "plt.title(\"Box Plot before imputation\")\n",
    "plt.show()\n",
    "q1 = df_train['User_Count'].quantile(0.25)\n",
    "q3 = df_train['User_Count'].quantile(0.75)\n",
    "iqr = q3-q1\n",
    "qf, ql = np.percentile(df_train['User_Count'], [1,99])\n",
    "Lower_tail = q1 - 1.5 * iqr\n",
    "Upper_tail = q3 + 1.5 * iqr\n",
    "for i in df_train['User_Count']:\n",
    "    if i > Upper_tail:\n",
    "        df_train['User_Count'] = df_train['User_Count'].replace(i, ql)\n",
    "    elif i < Lower_tail:\n",
    "        df_train['User_Count'] = df_train['User_Count'].replace(i, qf)\n",
    "sns.boxplot(df_train['User_Count'])\n",
    "plt.title(\"Box Plot after imputation\")\n",
    "plt.show()  "
   ]
  },
  {
   "cell_type": "code",
   "execution_count": 42,
   "id": "ac9b455d",
   "metadata": {},
   "outputs": [
    {
     "data": {
      "image/png": "[encoded data removed]",
      "text/plain": [
       "<Figure size 432x288 with 1 Axes>"
      ]
     },
     "metadata": {
      "needs_background": "light"
     },
     "output_type": "display_data"
    },
    {
     "data": {
      "image/png": "[encoded data removed]",
      "text/plain": [
       "<Figure size 432x288 with 1 Axes>"
      ]
     },
     "metadata": {
      "needs_background": "light"
     },
     "output_type": "display_data"
    }
   ],
   "source": [
    "sns.boxplot(df_train['Critic_Score'])\n",
    "plt.title(\"Box Plot before imputation\")\n",
    "plt.show()\n",
    "q1 = df_train['Critic_Score'].quantile(0.25)\n",
    "q3 = df_train['Critic_Score'].quantile(0.75)\n",
    "iqr = q3-q1\n",
    "qf, ql = np.percentile(df_train['Critic_Score'], [1,99])\n",
    "Lower_tail = q1 - 1.5 * iqr\n",
    "Upper_tail = q3 + 1.5 * iqr\n",
    "for i in df_train['Critic_Score']:\n",
    "    if i > Upper_tail:\n",
    "        df_train['Critic_Score'] = df_train['Critic_Score'].replace(i, ql)\n",
    "    elif i < Lower_tail:\n",
    "        df_train['Critic_Score'] = df_train['Critic_Score'].replace(i, qf)\n",
    "sns.boxplot(df_train['Critic_Score'])\n",
    "plt.title(\"Box Plot after imputation\")\n",
    "plt.show()  "
   ]
  },
  {
   "cell_type": "code",
   "execution_count": 43,
   "id": "c40e1a1f",
   "metadata": {},
   "outputs": [
    {
     "data": {
      "image/png": "[encoded data removed]",
      "text/plain": [
       "<Figure size 432x288 with 1 Axes>"
      ]
     },
     "metadata": {
      "needs_background": "light"
     },
     "output_type": "display_data"
    },
    {
     "data": {
      "image/png": "[encoded data removed]",
      "text/plain": [
       "<Figure size 432x288 with 1 Axes>"
      ]
     },
     "metadata": {
      "needs_background": "light"
     },
     "output_type": "display_data"
    }
   ],
   "source": [
    "sns.boxplot(df_train['Critic_Count'])\n",
    "plt.title(\"Box Plot before imputation\")\n",
    "plt.show()\n",
    "q1 = df_train['Critic_Count'].quantile(0.25)\n",
    "q3 = df_train['Critic_Count'].quantile(0.75)\n",
    "iqr = q3-q1\n",
    "qf, ql = np.percentile(df_train['Critic_Count'], [1,99])\n",
    "Lower_tail = q1 - 1.5 * iqr\n",
    "Upper_tail = q3 + 1.5 * iqr\n",
    "for i in df_train['Critic_Count']:\n",
    "    if i > Upper_tail:\n",
    "        df_train['Critic_Count'] = df_train['Critic_Count'].replace(i, ql)\n",
    "    elif i < Lower_tail:\n",
    "        df_train['Critic_Count'] = df_train['Critic_Count'].replace(i, qf)\n",
    "sns.boxplot(df_train['Critic_Count'])\n",
    "plt.title(\"Box Plot after imputation\")\n",
    "plt.show()"
   ]
  },
  {
   "cell_type": "code",
   "execution_count": 44,
   "id": "6d3991c6",
   "metadata": {},
   "outputs": [
    {
     "data": {
      "image/png": "[encoded data removed]",
      "text/plain": [
       "<Figure size 432x288 with 1 Axes>"
      ]
     },
     "metadata": {
      "needs_background": "light"
     },
     "output_type": "display_data"
    },
    {
     "data": {
      "image/png": "[encoded data removed]",
      "text/plain": [
       "<Figure size 432x288 with 1 Axes>"
      ]
     },
     "metadata": {
      "needs_background": "light"
     },
     "output_type": "display_data"
    }
   ],
   "source": [
    "sns.boxplot(df_train['Critic_Count'])\n",
    "plt.title(\"Box Plot before imputation\")\n",
    "plt.show()\n",
    "q1 = df_train['Critic_Count'].quantile(0.25)\n",
    "q3 = df_train['Critic_Count'].quantile(0.75)\n",
    "iqr = q3-q1\n",
    "qf, ql = np.percentile(df_train['Critic_Count'], [1,99])\n",
    "Lower_tail = q1 - 1.5 * iqr\n",
    "Upper_tail = q3 + 1.5 * iqr\n",
    "for i in df_train['Critic_Count']:\n",
    "    if i > Upper_tail:\n",
    "        df_train['Critic_Count'] = df_train['Critic_Count'].replace(i, ql)\n",
    "    elif i < Lower_tail:\n",
    "        df_train['Critic_Count'] = df_train['Critic_Count'].replace(i, qf)\n",
    "sns.boxplot(df_train['Critic_Count'])\n",
    "plt.title(\"Box Plot after imputation\")\n",
    "plt.show()"
   ]
  },
  {
   "cell_type": "code",
   "execution_count": 45,
   "id": "f9025c87",
   "metadata": {},
   "outputs": [
    {
     "data": {
      "image/png": "[encoded data removed]",
      "text/plain": [
       "<Figure size 432x288 with 1 Axes>"
      ]
     },
     "metadata": {
      "needs_background": "light"
     },
     "output_type": "display_data"
    },
    {
     "data": {
      "image/png": "[encoded data removed]",
      "text/plain": [
       "<Figure size 432x288 with 1 Axes>"
      ]
     },
     "metadata": {
      "needs_background": "light"
     },
     "output_type": "display_data"
    }
   ],
   "source": [
    "sns.boxplot(df_train['Critic_Count'])\n",
    "plt.title(\"Box Plot before imputation\")\n",
    "plt.show()\n",
    "q1 = df_train['Critic_Count'].quantile(0.25)\n",
    "q3 = df_train['Critic_Count'].quantile(0.75)\n",
    "iqr = q3-q1\n",
    "qf, ql = np.percentile(df_train['Critic_Count'], [1,99])\n",
    "Lower_tail = q1 - 1.5 * iqr\n",
    "Upper_tail = q3 + 1.5 * iqr\n",
    "for i in df_train['Critic_Count']:\n",
    "    if i > Upper_tail:\n",
    "        df_train['Critic_Count'] = df_train['Critic_Count'].replace(i, ql)\n",
    "    elif i < Lower_tail:\n",
    "        df_train['Critic_Count'] = df_train['Critic_Count'].replace(i, qf)\n",
    "sns.boxplot(df_train['Critic_Count'])\n",
    "plt.title(\"Box Plot after imputation\")\n",
    "plt.show()"
   ]
  },
  {
   "cell_type": "code",
   "execution_count": 46,
   "id": "1e69015f",
   "metadata": {},
   "outputs": [
    {
     "data": {
      "image/png": "[encoded data removed]",
      "text/plain": [
       "<Figure size 432x288 with 1 Axes>"
      ]
     },
     "metadata": {
      "needs_background": "light"
     },
     "output_type": "display_data"
    },
    {
     "data": {
      "image/png": "[encoded data removed]",
      "text/plain": [
       "<Figure size 432x288 with 1 Axes>"
      ]
     },
     "metadata": {
      "needs_background": "light"
     },
     "output_type": "display_data"
    }
   ],
   "source": [
    "sns.boxplot(df_train['NA'])\n",
    "plt.title(\"Box Plot before imputation\")\n",
    "plt.show()\n",
    "q1 = df_train['NA'].quantile(0.25)\n",
    "q3 = df_train['NA'].quantile(0.75)\n",
    "iqr = q3-q1\n",
    "qf, ql = np.percentile(df_train['NA'], [1,99])\n",
    "Lower_tail = q1 - 1.5 * iqr\n",
    "Upper_tail = q3 + 1.5 * iqr\n",
    "for i in df_train['NA']:\n",
    "    if i > Upper_tail:\n",
    "        df_train['NA'] = df_train['NA'].replace(i, ql)\n",
    "    elif i < Lower_tail:\n",
    "        df_train['NA'] = df_train['NA'].replace(i, qf)\n",
    "sns.boxplot(df_train['NA'])\n",
    "plt.title(\"Box Plot after imputation\")\n",
    "plt.show()"
   ]
  },
  {
   "cell_type": "code",
   "execution_count": 47,
   "id": "d5b4cdb8",
   "metadata": {},
   "outputs": [
    {
     "data": {
      "image/png": "[encoded data removed]",
      "text/plain": [
       "<Figure size 432x288 with 1 Axes>"
      ]
     },
     "metadata": {
      "needs_background": "light"
     },
     "output_type": "display_data"
    },
    {
     "data": {
      "image/png": "[encoded data removed]",
      "text/plain": [
       "<Figure size 432x288 with 1 Axes>"
      ]
     },
     "metadata": {
      "needs_background": "light"
     },
     "output_type": "display_data"
    }
   ],
   "source": [
    "sns.boxplot(df_train['NA'])\n",
    "plt.title(\"Box Plot before imputation\")\n",
    "plt.show()\n",
    "q1 = df_train['NA'].quantile(0.25)\n",
    "q3 = df_train['NA'].quantile(0.75)\n",
    "iqr = q3-q1\n",
    "qf, ql = np.percentile(df_train['NA'], [1,99])\n",
    "Lower_tail = q1 - 1.5 * iqr\n",
    "Upper_tail = q3 + 1.5 * iqr\n",
    "for i in df_train['NA']:\n",
    "    if i > Upper_tail:\n",
    "        df_train['NA'] = df_train['NA'].replace(i, ql)\n",
    "    elif i < Lower_tail:\n",
    "        df_train['NA'] = df_train['NA'].replace(i, qf)\n",
    "sns.boxplot(df_train['NA'])\n",
    "plt.title(\"Box Plot after imputation\")\n",
    "plt.show()"
   ]
  },
  {
   "cell_type": "code",
   "execution_count": 48,
   "id": "a50e9085",
   "metadata": {},
   "outputs": [
    {
     "data": {
      "image/png": "[encoded data removed]",
      "text/plain": [
       "<Figure size 432x288 with 1 Axes>"
      ]
     },
     "metadata": {
      "needs_background": "light"
     },
     "output_type": "display_data"
    },
    {
     "data": {
      "image/png": "[encoded data removed]",
      "text/plain": [
       "<Figure size 432x288 with 1 Axes>"
      ]
     },
     "metadata": {
      "needs_background": "light"
     },
     "output_type": "display_data"
    }
   ],
   "source": [
    "sns.boxplot(df_train['NA'])\n",
    "plt.title(\"Box Plot before imputation\")\n",
    "plt.show()\n",
    "q1 = df_train['NA'].quantile(0.25)\n",
    "q3 = df_train['NA'].quantile(0.75)\n",
    "iqr = q3-q1\n",
    "qf, ql = np.percentile(df_train['NA'], [1,99])\n",
    "Lower_tail = q1 - 1.5 * iqr\n",
    "Upper_tail = q3 + 1.5 * iqr\n",
    "for i in df_train['NA']:\n",
    "    if i > Upper_tail:\n",
    "        df_train['NA'] = df_train['NA'].replace(i, ql)\n",
    "    elif i < Lower_tail:\n",
    "        df_train['NA'] = df_train['NA'].replace(i, qf)\n",
    "sns.boxplot(df_train['NA'])\n",
    "plt.title(\"Box Plot after imputation\")\n",
    "plt.show()"
   ]
  },
  {
   "cell_type": "code",
   "execution_count": 49,
   "id": "13c32e66",
   "metadata": {},
   "outputs": [
    {
     "data": {
      "image/png": "[encoded data removed]",
      "text/plain": [
       "<Figure size 432x288 with 1 Axes>"
      ]
     },
     "metadata": {
      "needs_background": "light"
     },
     "output_type": "display_data"
    },
    {
     "data": {
      "image/png": "[encoded data removed]",
      "text/plain": [
       "<Figure size 432x288 with 1 Axes>"
      ]
     },
     "metadata": {
      "needs_background": "light"
     },
     "output_type": "display_data"
    }
   ],
   "source": [
    "sns.boxplot(df_train['NA'])\n",
    "plt.title(\"Box Plot before imputation\")\n",
    "plt.show()\n",
    "q1 = df_train['NA'].quantile(0.25)\n",
    "q3 = df_train['NA'].quantile(0.75)\n",
    "iqr = q3-q1\n",
    "qf, ql = np.percentile(df_train['NA'], [1,99])\n",
    "Lower_tail = q1 - 1.5 * iqr\n",
    "Upper_tail = q3 + 1.5 * iqr\n",
    "for i in df_train['NA']:\n",
    "    if i > Upper_tail:\n",
    "        df_train['NA'] = df_train['NA'].replace(i, ql)\n",
    "    elif i < Lower_tail:\n",
    "        df_train['NA'] = df_train['NA'].replace(i, qf)\n",
    "sns.boxplot(df_train['NA'])\n",
    "plt.title(\"Box Plot after imputation\")\n",
    "plt.show()"
   ]
  },
  {
   "cell_type": "code",
   "execution_count": 50,
   "id": "cfed5a7e",
   "metadata": {},
   "outputs": [
    {
     "data": {
      "image/png": "[encoded data removed]",
      "text/plain": [
       "<Figure size 432x288 with 1 Axes>"
      ]
     },
     "metadata": {
      "needs_background": "light"
     },
     "output_type": "display_data"
    },
    {
     "data": {
      "image/png": "[encoded data removed]",
      "text/plain": [
       "<Figure size 432x288 with 1 Axes>"
      ]
     },
     "metadata": {
      "needs_background": "light"
     },
     "output_type": "display_data"
    }
   ],
   "source": [
    "sns.boxplot(df_train['JP'])\n",
    "plt.title(\"Box Plot before imputation\")\n",
    "plt.show()\n",
    "q1 = df_train['JP'].quantile(0.25)\n",
    "q3 = df_train['JP'].quantile(0.75)\n",
    "iqr = q3-q1\n",
    "qf, ql = np.percentile(df_train['JP'], [1,99])\n",
    "Lower_tail = q1 - 1.5 * iqr\n",
    "Upper_tail = q3 + 1.5 * iqr\n",
    "for i in df_train['JP']:\n",
    "    if i > Upper_tail:\n",
    "        df_train['JP'] = df_train['JP'].replace(i, ql)\n",
    "    elif i < Lower_tail:\n",
    "        df_train['JP'] = df_train['JP'].replace(i, qf)\n",
    "sns.boxplot(df_train['JP'])\n",
    "plt.title(\"Box Plot after imputation\")\n",
    "plt.show()"
   ]
  },
  {
   "cell_type": "code",
   "execution_count": 51,
   "id": "bd64b958",
   "metadata": {},
   "outputs": [
    {
     "data": {
      "image/png": "[encoded data removed]",
      "text/plain": [
       "<Figure size 432x288 with 1 Axes>"
      ]
     },
     "metadata": {
      "needs_background": "light"
     },
     "output_type": "display_data"
    },
    {
     "data": {
      "image/png": "[encoded data removed]",
      "text/plain": [
       "<Figure size 432x288 with 1 Axes>"
      ]
     },
     "metadata": {
      "needs_background": "light"
     },
     "output_type": "display_data"
    }
   ],
   "source": [
    "sns.boxplot(df_train['JP'])\n",
    "plt.title(\"Box Plot before imputation\")\n",
    "plt.show()\n",
    "q1 = df_train['JP'].quantile(0.25)\n",
    "q3 = df_train['JP'].quantile(0.75)\n",
    "iqr = q3-q1\n",
    "qf, ql = np.percentile(df_train['JP'], [1,99])\n",
    "Lower_tail = q1 - 1.5 * iqr\n",
    "Upper_tail = q3 + 1.5 * iqr\n",
    "for i in df_train['JP']:\n",
    "    if i > Upper_tail:\n",
    "        df_train['JP'] = df_train['JP'].replace(i, ql)\n",
    "    elif i < Lower_tail:\n",
    "        df_train['JP'] = df_train['JP'].replace(i, qf)\n",
    "sns.boxplot(df_train['JP'])\n",
    "plt.title(\"Box Plot after imputation\")\n",
    "plt.show()"
   ]
  },
  {
   "cell_type": "code",
   "execution_count": 52,
   "id": "aea7b9b0",
   "metadata": {},
   "outputs": [
    {
     "data": {
      "image/png": "[encoded data removed]",
      "text/plain": [
       "<Figure size 432x288 with 1 Axes>"
      ]
     },
     "metadata": {
      "needs_background": "light"
     },
     "output_type": "display_data"
    },
    {
     "data": {
      "image/png": "[encoded data removed]",
      "text/plain": [
       "<Figure size 432x288 with 1 Axes>"
      ]
     },
     "metadata": {
      "needs_background": "light"
     },
     "output_type": "display_data"
    }
   ],
   "source": [
    "sns.boxplot(df_train['EU'])\n",
    "plt.title(\"Box Plot before imputation\")\n",
    "plt.show()\n",
    "q1 = df_train['EU'].quantile(0.25)\n",
    "q3 = df_train['EU'].quantile(0.75)\n",
    "iqr = q3-q1\n",
    "qf, ql = np.percentile(df_train['EU'], [1,99])\n",
    "Lower_tail = q1 - 1.5 * iqr\n",
    "Upper_tail = q3 + 1.5 * iqr\n",
    "for i in df_train['EU']:\n",
    "    if i > Upper_tail:\n",
    "        df_train['EU'] = df_train['EU'].replace(i, ql)\n",
    "    elif i < Lower_tail:\n",
    "        df_train['EU'] = df_train['EU'].replace(i, qf)\n",
    "sns.boxplot(df_train['EU'])\n",
    "plt.title(\"Box Plot after imputation\")\n",
    "plt.show()"
   ]
  },
  {
   "cell_type": "code",
   "execution_count": 53,
   "id": "47ec129b",
   "metadata": {},
   "outputs": [],
   "source": [
    "## concating the test and training set for One Hot Encoding\n",
    "\n",
    "df_train['Source'] = \"Train\"\n",
    "df_test['Source'] = \"Test\""
   ]
  },
  {
   "cell_type": "code",
   "execution_count": 54,
   "id": "74b60587",
   "metadata": {},
   "outputs": [
    {
     "name": "stdout",
     "output_type": "stream",
     "text": [
      "Index(['Name', 'Platform', 'Year', 'Genre', 'Publisher', 'NA', 'EU', 'JP',\n",
      "       'Critic_Score', 'Critic_Count', 'User_Score', 'User_Count', 'Developer',\n",
      "       'Rating', 'Global', 'Source'],\n",
      "      dtype='object')\n"
     ]
    }
   ],
   "source": [
    "print(df_train.columns)"
   ]
  },
  {
   "cell_type": "code",
   "execution_count": 55,
   "id": "c631be63",
   "metadata": {},
   "outputs": [
    {
     "data": {
      "text/plain": [
       "<bound method Series.unique of 0        Train\n",
       "1        Train\n",
       "2        Train\n",
       "3        Train\n",
       "4        Train\n",
       "         ...  \n",
       "14569    Train\n",
       "14570    Train\n",
       "14571    Train\n",
       "14572    Train\n",
       "14573    Train\n",
       "Name: Source, Length: 14312, dtype: object>"
      ]
     },
     "execution_count": 55,
     "metadata": {},
     "output_type": "execute_result"
    }
   ],
   "source": [
    "df_train['Source'].unique"
   ]
  },
  {
   "cell_type": "code",
   "execution_count": 56,
   "id": "5783c651",
   "metadata": {},
   "outputs": [
    {
     "data": {
      "text/plain": [
       "(16455, 16)"
      ]
     },
     "execution_count": 56,
     "metadata": {},
     "output_type": "execute_result"
    }
   ],
   "source": [
    "df_full = pd.concat([df_train, df_test], axis = 0)\n",
    "df_full.shape"
   ]
  },
  {
   "cell_type": "code",
   "execution_count": 57,
   "id": "d4d316f3",
   "metadata": {},
   "outputs": [
    {
     "name": "stdout",
     "output_type": "stream",
     "text": [
      "Index(['Name', 'Platform', 'Year', 'Genre', 'Publisher', 'NA', 'EU', 'JP',\n",
      "       'Critic_Score', 'Critic_Count', 'User_Score', 'User_Count', 'Developer',\n",
      "       'Rating', 'Global', 'Source'],\n",
      "      dtype='object')\n"
     ]
    }
   ],
   "source": [
    "print(df_full.columns)"
   ]
  },
  {
   "cell_type": "code",
   "execution_count": 58,
   "id": "63edeb46",
   "metadata": {},
   "outputs": [
    {
     "name": "stdout",
     "output_type": "stream",
     "text": [
      "<class 'pandas.core.frame.DataFrame'>\n",
      "Int64Index: 16455 entries, 0 to 2142\n",
      "Data columns (total 16 columns):\n",
      " #   Column        Non-Null Count  Dtype  \n",
      "---  ------        --------------  -----  \n",
      " 0   Name          16455 non-null  object \n",
      " 1   Platform      16455 non-null  object \n",
      " 2   Year          16455 non-null  int32  \n",
      " 3   Genre         16455 non-null  object \n",
      " 4   Publisher     16455 non-null  object \n",
      " 5   NA            16455 non-null  float64\n",
      " 6   EU            16455 non-null  float64\n",
      " 7   JP            16455 non-null  float64\n",
      " 8   Critic_Score  7930 non-null   float64\n",
      " 9   Critic_Count  7755 non-null   float64\n",
      " 10  User_Score    7142 non-null   float64\n",
      " 11  User_Count    5319 non-null   float64\n",
      " 12  Developer     16455 non-null  object \n",
      " 13  Rating        16455 non-null  object \n",
      " 14  Global        14312 non-null  float64\n",
      " 15  Source        16455 non-null  object \n",
      "dtypes: float64(8), int32(1), object(7)\n",
      "memory usage: 2.1+ MB\n"
     ]
    }
   ],
   "source": [
    "df_full.info()"
   ]
  },
  {
   "cell_type": "code",
   "execution_count": 59,
   "id": "3fd3a6d8",
   "metadata": {},
   "outputs": [
    {
     "data": {
      "text/plain": [
       "(16455, 14)"
      ]
     },
     "execution_count": 59,
     "metadata": {},
     "output_type": "execute_result"
    }
   ],
   "source": [
    "import category_encoders as ce\n",
    "\n",
    "numeric_subset = df_full.select_dtypes(\"number\")\n",
    "categorical_subset = df_full[[\"Platform\", \"Genre\", \"Rating\"]]\n",
    "source = df_full[\"Source\"]\n",
    "name = df_full[\"Name\"]\n",
    "encoder = ce.ordinal.OrdinalEncoder()\n",
    "categorical_subset = encoder.fit_transform(categorical_subset)\n",
    "features = pd.concat([name,numeric_subset, categorical_subset, source], axis = 1)\n",
    "features.shape"
   ]
  },
  {
   "cell_type": "markdown",
   "id": "b80c1e67",
   "metadata": {},
   "source": [
    "Went with Ordinal encoding to keep the number of columns as minimum as possible"
   ]
  },
  {
   "cell_type": "code",
   "execution_count": 60,
   "id": "501ed30e",
   "metadata": {
    "scrolled": true
   },
   "outputs": [
    {
     "data": {
      "text/html": [
       "<div>\n",
       "<style scoped>\n",
       "    .dataframe tbody tr th:only-of-type {\n",
       "        vertical-align: middle;\n",
       "    }\n",
       "\n",
       "    .dataframe tbody tr th {\n",
       "        vertical-align: top;\n",
       "    }\n",
       "\n",
       "    .dataframe thead th {\n",
       "        text-align: right;\n",
       "    }\n",
       "</style>\n",
       "<table border=\"1\" class=\"dataframe\">\n",
       "  <thead>\n",
       "    <tr style=\"text-align: right;\">\n",
       "      <th></th>\n",
       "      <th>Name</th>\n",
       "      <th>Year</th>\n",
       "      <th>NA</th>\n",
       "      <th>EU</th>\n",
       "      <th>JP</th>\n",
       "      <th>Critic_Score</th>\n",
       "      <th>Critic_Count</th>\n",
       "      <th>User_Score</th>\n",
       "      <th>User_Count</th>\n",
       "      <th>Global</th>\n",
       "      <th>Platform</th>\n",
       "      <th>Genre</th>\n",
       "      <th>Rating</th>\n",
       "      <th>Source</th>\n",
       "    </tr>\n",
       "  </thead>\n",
       "  <tbody>\n",
       "    <tr>\n",
       "      <th>0</th>\n",
       "      <td>Wii Sports</td>\n",
       "      <td>2006</td>\n",
       "      <td>3.0189</td>\n",
       "      <td>2.07</td>\n",
       "      <td>1.38</td>\n",
       "      <td>76.0</td>\n",
       "      <td>51.0</td>\n",
       "      <td>8.0</td>\n",
       "      <td>NaN</td>\n",
       "      <td>82.53</td>\n",
       "      <td>1</td>\n",
       "      <td>1</td>\n",
       "      <td>1</td>\n",
       "      <td>Train</td>\n",
       "    </tr>\n",
       "    <tr>\n",
       "      <th>1</th>\n",
       "      <td>Super Mario Bros.</td>\n",
       "      <td>1985</td>\n",
       "      <td>3.0189</td>\n",
       "      <td>2.07</td>\n",
       "      <td>1.38</td>\n",
       "      <td>NaN</td>\n",
       "      <td>NaN</td>\n",
       "      <td>NaN</td>\n",
       "      <td>NaN</td>\n",
       "      <td>40.24</td>\n",
       "      <td>2</td>\n",
       "      <td>2</td>\n",
       "      <td>2</td>\n",
       "      <td>Train</td>\n",
       "    </tr>\n",
       "    <tr>\n",
       "      <th>2</th>\n",
       "      <td>Mario Kart Wii</td>\n",
       "      <td>2008</td>\n",
       "      <td>3.0189</td>\n",
       "      <td>2.07</td>\n",
       "      <td>1.38</td>\n",
       "      <td>82.0</td>\n",
       "      <td>NaN</td>\n",
       "      <td>8.3</td>\n",
       "      <td>NaN</td>\n",
       "      <td>35.52</td>\n",
       "      <td>1</td>\n",
       "      <td>3</td>\n",
       "      <td>1</td>\n",
       "      <td>Train</td>\n",
       "    </tr>\n",
       "    <tr>\n",
       "      <th>3</th>\n",
       "      <td>Wii Sports Resort</td>\n",
       "      <td>2009</td>\n",
       "      <td>3.0189</td>\n",
       "      <td>2.07</td>\n",
       "      <td>1.38</td>\n",
       "      <td>80.0</td>\n",
       "      <td>NaN</td>\n",
       "      <td>8.0</td>\n",
       "      <td>NaN</td>\n",
       "      <td>32.77</td>\n",
       "      <td>1</td>\n",
       "      <td>1</td>\n",
       "      <td>1</td>\n",
       "      <td>Train</td>\n",
       "    </tr>\n",
       "    <tr>\n",
       "      <th>4</th>\n",
       "      <td>Pokemon Red/Pokemon Blue</td>\n",
       "      <td>1996</td>\n",
       "      <td>3.0189</td>\n",
       "      <td>2.07</td>\n",
       "      <td>1.38</td>\n",
       "      <td>NaN</td>\n",
       "      <td>NaN</td>\n",
       "      <td>NaN</td>\n",
       "      <td>NaN</td>\n",
       "      <td>31.37</td>\n",
       "      <td>3</td>\n",
       "      <td>4</td>\n",
       "      <td>2</td>\n",
       "      <td>Train</td>\n",
       "    </tr>\n",
       "  </tbody>\n",
       "</table>\n",
       "</div>"
      ],
      "text/plain": [
       "                       Name  Year      NA    EU    JP  Critic_Score  \\\n",
       "0                Wii Sports  2006  3.0189  2.07  1.38          76.0   \n",
       "1         Super Mario Bros.  1985  3.0189  2.07  1.38           NaN   \n",
       "2            Mario Kart Wii  2008  3.0189  2.07  1.38          82.0   \n",
       "3         Wii Sports Resort  2009  3.0189  2.07  1.38          80.0   \n",
       "4  Pokemon Red/Pokemon Blue  1996  3.0189  2.07  1.38           NaN   \n",
       "\n",
       "   Critic_Count  User_Score  User_Count  Global  Platform  Genre  Rating  \\\n",
       "0          51.0         8.0         NaN   82.53         1      1       1   \n",
       "1           NaN         NaN         NaN   40.24         2      2       2   \n",
       "2           NaN         8.3         NaN   35.52         1      3       1   \n",
       "3           NaN         8.0         NaN   32.77         1      1       1   \n",
       "4           NaN         NaN         NaN   31.37         3      4       2   \n",
       "\n",
       "  Source  \n",
       "0  Train  \n",
       "1  Train  \n",
       "2  Train  \n",
       "3  Train  \n",
       "4  Train  "
      ]
     },
     "execution_count": 60,
     "metadata": {},
     "output_type": "execute_result"
    }
   ],
   "source": [
    "features.head()"
   ]
  },
  {
   "cell_type": "code",
   "execution_count": 61,
   "id": "1fa6bc13",
   "metadata": {},
   "outputs": [
    {
     "name": "stdout",
     "output_type": "stream",
     "text": [
      "Index(['Name', 'Year', 'NA', 'EU', 'JP', 'Critic_Score', 'Critic_Count',\n",
      "       'User_Score', 'User_Count', 'Global', 'Platform', 'Genre', 'Rating',\n",
      "       'Source'],\n",
      "      dtype='object')\n"
     ]
    }
   ],
   "source": [
    "print(features.columns)"
   ]
  },
  {
   "cell_type": "code",
   "execution_count": 62,
   "id": "73748eef",
   "metadata": {},
   "outputs": [],
   "source": [
    "## Splitting the full df to its individual \n",
    "\n",
    "df_train = features[features['Source'] == \"Train\"].drop(['Source'], axis = 1).copy()\n",
    "df_test = features[features['Source'] == \"Test\"].drop(['Source'], axis = 1).copy()"
   ]
  },
  {
   "cell_type": "code",
   "execution_count": 63,
   "id": "e37c2e1a",
   "metadata": {},
   "outputs": [
    {
     "data": {
      "text/html": [
       "<div>\n",
       "<style scoped>\n",
       "    .dataframe tbody tr th:only-of-type {\n",
       "        vertical-align: middle;\n",
       "    }\n",
       "\n",
       "    .dataframe tbody tr th {\n",
       "        vertical-align: top;\n",
       "    }\n",
       "\n",
       "    .dataframe thead th {\n",
       "        text-align: right;\n",
       "    }\n",
       "</style>\n",
       "<table border=\"1\" class=\"dataframe\">\n",
       "  <thead>\n",
       "    <tr style=\"text-align: right;\">\n",
       "      <th></th>\n",
       "      <th>Name</th>\n",
       "      <th>Year</th>\n",
       "      <th>NA</th>\n",
       "      <th>EU</th>\n",
       "      <th>JP</th>\n",
       "      <th>Critic_Score</th>\n",
       "      <th>Critic_Count</th>\n",
       "      <th>User_Score</th>\n",
       "      <th>User_Count</th>\n",
       "      <th>Global</th>\n",
       "      <th>Platform</th>\n",
       "      <th>Genre</th>\n",
       "      <th>Rating</th>\n",
       "    </tr>\n",
       "  </thead>\n",
       "  <tbody>\n",
       "    <tr>\n",
       "      <th>0</th>\n",
       "      <td>Nicktoons: MLB</td>\n",
       "      <td>2011</td>\n",
       "      <td>0.12</td>\n",
       "      <td>0.00</td>\n",
       "      <td>0.0</td>\n",
       "      <td>NaN</td>\n",
       "      <td>NaN</td>\n",
       "      <td>7.6</td>\n",
       "      <td>7.0</td>\n",
       "      <td>NaN</td>\n",
       "      <td>5</td>\n",
       "      <td>1</td>\n",
       "      <td>1</td>\n",
       "    </tr>\n",
       "    <tr>\n",
       "      <th>1</th>\n",
       "      <td>Shonen Jump's One Piece: Grand Battle</td>\n",
       "      <td>2005</td>\n",
       "      <td>0.07</td>\n",
       "      <td>0.05</td>\n",
       "      <td>0.0</td>\n",
       "      <td>NaN</td>\n",
       "      <td>NaN</td>\n",
       "      <td>NaN</td>\n",
       "      <td>NaN</td>\n",
       "      <td>NaN</td>\n",
       "      <td>7</td>\n",
       "      <td>10</td>\n",
       "      <td>2</td>\n",
       "    </tr>\n",
       "    <tr>\n",
       "      <th>2</th>\n",
       "      <td>Learn Math</td>\n",
       "      <td>2009</td>\n",
       "      <td>0.12</td>\n",
       "      <td>0.00</td>\n",
       "      <td>0.0</td>\n",
       "      <td>NaN</td>\n",
       "      <td>NaN</td>\n",
       "      <td>NaN</td>\n",
       "      <td>NaN</td>\n",
       "      <td>NaN</td>\n",
       "      <td>4</td>\n",
       "      <td>5</td>\n",
       "      <td>1</td>\n",
       "    </tr>\n",
       "    <tr>\n",
       "      <th>3</th>\n",
       "      <td>Nitrobike</td>\n",
       "      <td>2008</td>\n",
       "      <td>0.11</td>\n",
       "      <td>0.01</td>\n",
       "      <td>0.0</td>\n",
       "      <td>49.0</td>\n",
       "      <td>22.0</td>\n",
       "      <td>7.1</td>\n",
       "      <td>7.0</td>\n",
       "      <td>NaN</td>\n",
       "      <td>1</td>\n",
       "      <td>3</td>\n",
       "      <td>5</td>\n",
       "    </tr>\n",
       "    <tr>\n",
       "      <th>4</th>\n",
       "      <td>Cruise Ship Vacation Games</td>\n",
       "      <td>2009</td>\n",
       "      <td>0.12</td>\n",
       "      <td>0.00</td>\n",
       "      <td>0.0</td>\n",
       "      <td>NaN</td>\n",
       "      <td>NaN</td>\n",
       "      <td>NaN</td>\n",
       "      <td>NaN</td>\n",
       "      <td>NaN</td>\n",
       "      <td>1</td>\n",
       "      <td>5</td>\n",
       "      <td>1</td>\n",
       "    </tr>\n",
       "  </tbody>\n",
       "</table>\n",
       "</div>"
      ],
      "text/plain": [
       "                                    Name  Year    NA    EU   JP  Critic_Score  \\\n",
       "0                         Nicktoons: MLB  2011  0.12  0.00  0.0           NaN   \n",
       "1  Shonen Jump's One Piece: Grand Battle  2005  0.07  0.05  0.0           NaN   \n",
       "2                             Learn Math  2009  0.12  0.00  0.0           NaN   \n",
       "3                              Nitrobike  2008  0.11  0.01  0.0          49.0   \n",
       "4             Cruise Ship Vacation Games  2009  0.12  0.00  0.0           NaN   \n",
       "\n",
       "   Critic_Count  User_Score  User_Count  Global  Platform  Genre  Rating  \n",
       "0           NaN         7.6         7.0     NaN         5      1       1  \n",
       "1           NaN         NaN         NaN     NaN         7     10       2  \n",
       "2           NaN         NaN         NaN     NaN         4      5       1  \n",
       "3          22.0         7.1         7.0     NaN         1      3       5  \n",
       "4           NaN         NaN         NaN     NaN         1      5       1  "
      ]
     },
     "execution_count": 63,
     "metadata": {},
     "output_type": "execute_result"
    }
   ],
   "source": [
    "df_test.head()"
   ]
  },
  {
   "cell_type": "code",
   "execution_count": 64,
   "id": "637eba70",
   "metadata": {},
   "outputs": [],
   "source": [
    "df_test = df_test.drop(columns = \"Global\")"
   ]
  },
  {
   "cell_type": "code",
   "execution_count": 65,
   "id": "2008df2d",
   "metadata": {},
   "outputs": [
    {
     "data": {
      "text/html": [
       "<div>\n",
       "<style scoped>\n",
       "    .dataframe tbody tr th:only-of-type {\n",
       "        vertical-align: middle;\n",
       "    }\n",
       "\n",
       "    .dataframe tbody tr th {\n",
       "        vertical-align: top;\n",
       "    }\n",
       "\n",
       "    .dataframe thead th {\n",
       "        text-align: right;\n",
       "    }\n",
       "</style>\n",
       "<table border=\"1\" class=\"dataframe\">\n",
       "  <thead>\n",
       "    <tr style=\"text-align: right;\">\n",
       "      <th></th>\n",
       "      <th>Name</th>\n",
       "      <th>Year</th>\n",
       "      <th>NA</th>\n",
       "      <th>EU</th>\n",
       "      <th>JP</th>\n",
       "      <th>Critic_Score</th>\n",
       "      <th>Critic_Count</th>\n",
       "      <th>User_Score</th>\n",
       "      <th>User_Count</th>\n",
       "      <th>Global</th>\n",
       "      <th>Platform</th>\n",
       "      <th>Genre</th>\n",
       "      <th>Rating</th>\n",
       "    </tr>\n",
       "  </thead>\n",
       "  <tbody>\n",
       "    <tr>\n",
       "      <th>0</th>\n",
       "      <td>Wii Sports</td>\n",
       "      <td>2006</td>\n",
       "      <td>3.0189</td>\n",
       "      <td>2.07</td>\n",
       "      <td>1.38</td>\n",
       "      <td>76.0</td>\n",
       "      <td>51.0</td>\n",
       "      <td>8.0</td>\n",
       "      <td>NaN</td>\n",
       "      <td>82.53</td>\n",
       "      <td>1</td>\n",
       "      <td>1</td>\n",
       "      <td>1</td>\n",
       "    </tr>\n",
       "    <tr>\n",
       "      <th>1</th>\n",
       "      <td>Super Mario Bros.</td>\n",
       "      <td>1985</td>\n",
       "      <td>3.0189</td>\n",
       "      <td>2.07</td>\n",
       "      <td>1.38</td>\n",
       "      <td>NaN</td>\n",
       "      <td>NaN</td>\n",
       "      <td>NaN</td>\n",
       "      <td>NaN</td>\n",
       "      <td>40.24</td>\n",
       "      <td>2</td>\n",
       "      <td>2</td>\n",
       "      <td>2</td>\n",
       "    </tr>\n",
       "    <tr>\n",
       "      <th>2</th>\n",
       "      <td>Mario Kart Wii</td>\n",
       "      <td>2008</td>\n",
       "      <td>3.0189</td>\n",
       "      <td>2.07</td>\n",
       "      <td>1.38</td>\n",
       "      <td>82.0</td>\n",
       "      <td>NaN</td>\n",
       "      <td>8.3</td>\n",
       "      <td>NaN</td>\n",
       "      <td>35.52</td>\n",
       "      <td>1</td>\n",
       "      <td>3</td>\n",
       "      <td>1</td>\n",
       "    </tr>\n",
       "    <tr>\n",
       "      <th>3</th>\n",
       "      <td>Wii Sports Resort</td>\n",
       "      <td>2009</td>\n",
       "      <td>3.0189</td>\n",
       "      <td>2.07</td>\n",
       "      <td>1.38</td>\n",
       "      <td>80.0</td>\n",
       "      <td>NaN</td>\n",
       "      <td>8.0</td>\n",
       "      <td>NaN</td>\n",
       "      <td>32.77</td>\n",
       "      <td>1</td>\n",
       "      <td>1</td>\n",
       "      <td>1</td>\n",
       "    </tr>\n",
       "    <tr>\n",
       "      <th>4</th>\n",
       "      <td>Pokemon Red/Pokemon Blue</td>\n",
       "      <td>1996</td>\n",
       "      <td>3.0189</td>\n",
       "      <td>2.07</td>\n",
       "      <td>1.38</td>\n",
       "      <td>NaN</td>\n",
       "      <td>NaN</td>\n",
       "      <td>NaN</td>\n",
       "      <td>NaN</td>\n",
       "      <td>31.37</td>\n",
       "      <td>3</td>\n",
       "      <td>4</td>\n",
       "      <td>2</td>\n",
       "    </tr>\n",
       "  </tbody>\n",
       "</table>\n",
       "</div>"
      ],
      "text/plain": [
       "                       Name  Year      NA    EU    JP  Critic_Score  \\\n",
       "0                Wii Sports  2006  3.0189  2.07  1.38          76.0   \n",
       "1         Super Mario Bros.  1985  3.0189  2.07  1.38           NaN   \n",
       "2            Mario Kart Wii  2008  3.0189  2.07  1.38          82.0   \n",
       "3         Wii Sports Resort  2009  3.0189  2.07  1.38          80.0   \n",
       "4  Pokemon Red/Pokemon Blue  1996  3.0189  2.07  1.38           NaN   \n",
       "\n",
       "   Critic_Count  User_Score  User_Count  Global  Platform  Genre  Rating  \n",
       "0          51.0         8.0         NaN   82.53         1      1       1  \n",
       "1           NaN         NaN         NaN   40.24         2      2       2  \n",
       "2           NaN         8.3         NaN   35.52         1      3       1  \n",
       "3           NaN         8.0         NaN   32.77         1      1       1  \n",
       "4           NaN         NaN         NaN   31.37         3      4       2  "
      ]
     },
     "execution_count": 65,
     "metadata": {},
     "output_type": "execute_result"
    }
   ],
   "source": [
    "df_train.head()"
   ]
  },
  {
   "cell_type": "code",
   "execution_count": 66,
   "id": "931e3b39",
   "metadata": {},
   "outputs": [],
   "source": [
    "df_test = df_test.set_index(\"Name\")"
   ]
  },
  {
   "cell_type": "code",
   "execution_count": 67,
   "id": "668fa464",
   "metadata": {},
   "outputs": [
    {
     "data": {
      "text/plain": [
       "(2143, 11)"
      ]
     },
     "execution_count": 67,
     "metadata": {},
     "output_type": "execute_result"
    }
   ],
   "source": [
    "df_test.shape"
   ]
  },
  {
   "cell_type": "code",
   "execution_count": 68,
   "id": "d563d13a",
   "metadata": {},
   "outputs": [],
   "source": [
    "df_train = df_train.set_index(\"Name\")"
   ]
  },
  {
   "cell_type": "code",
   "execution_count": 69,
   "id": "54436549",
   "metadata": {},
   "outputs": [
    {
     "data": {
      "text/html": [
       "<div>\n",
       "<style scoped>\n",
       "    .dataframe tbody tr th:only-of-type {\n",
       "        vertical-align: middle;\n",
       "    }\n",
       "\n",
       "    .dataframe tbody tr th {\n",
       "        vertical-align: top;\n",
       "    }\n",
       "\n",
       "    .dataframe thead th {\n",
       "        text-align: right;\n",
       "    }\n",
       "</style>\n",
       "<table border=\"1\" class=\"dataframe\">\n",
       "  <thead>\n",
       "    <tr style=\"text-align: right;\">\n",
       "      <th></th>\n",
       "      <th>Year</th>\n",
       "      <th>NA</th>\n",
       "      <th>EU</th>\n",
       "      <th>JP</th>\n",
       "      <th>Critic_Score</th>\n",
       "      <th>Critic_Count</th>\n",
       "      <th>User_Score</th>\n",
       "      <th>User_Count</th>\n",
       "      <th>Global</th>\n",
       "      <th>Platform</th>\n",
       "      <th>Genre</th>\n",
       "      <th>Rating</th>\n",
       "    </tr>\n",
       "    <tr>\n",
       "      <th>Name</th>\n",
       "      <th></th>\n",
       "      <th></th>\n",
       "      <th></th>\n",
       "      <th></th>\n",
       "      <th></th>\n",
       "      <th></th>\n",
       "      <th></th>\n",
       "      <th></th>\n",
       "      <th></th>\n",
       "      <th></th>\n",
       "      <th></th>\n",
       "      <th></th>\n",
       "    </tr>\n",
       "  </thead>\n",
       "  <tbody>\n",
       "    <tr>\n",
       "      <th>Wii Sports</th>\n",
       "      <td>2006</td>\n",
       "      <td>3.0189</td>\n",
       "      <td>2.07</td>\n",
       "      <td>1.38</td>\n",
       "      <td>76.0</td>\n",
       "      <td>51.0</td>\n",
       "      <td>8.0</td>\n",
       "      <td>NaN</td>\n",
       "      <td>82.53</td>\n",
       "      <td>1</td>\n",
       "      <td>1</td>\n",
       "      <td>1</td>\n",
       "    </tr>\n",
       "    <tr>\n",
       "      <th>Super Mario Bros.</th>\n",
       "      <td>1985</td>\n",
       "      <td>3.0189</td>\n",
       "      <td>2.07</td>\n",
       "      <td>1.38</td>\n",
       "      <td>NaN</td>\n",
       "      <td>NaN</td>\n",
       "      <td>NaN</td>\n",
       "      <td>NaN</td>\n",
       "      <td>40.24</td>\n",
       "      <td>2</td>\n",
       "      <td>2</td>\n",
       "      <td>2</td>\n",
       "    </tr>\n",
       "    <tr>\n",
       "      <th>Mario Kart Wii</th>\n",
       "      <td>2008</td>\n",
       "      <td>3.0189</td>\n",
       "      <td>2.07</td>\n",
       "      <td>1.38</td>\n",
       "      <td>82.0</td>\n",
       "      <td>NaN</td>\n",
       "      <td>8.3</td>\n",
       "      <td>NaN</td>\n",
       "      <td>35.52</td>\n",
       "      <td>1</td>\n",
       "      <td>3</td>\n",
       "      <td>1</td>\n",
       "    </tr>\n",
       "    <tr>\n",
       "      <th>Wii Sports Resort</th>\n",
       "      <td>2009</td>\n",
       "      <td>3.0189</td>\n",
       "      <td>2.07</td>\n",
       "      <td>1.38</td>\n",
       "      <td>80.0</td>\n",
       "      <td>NaN</td>\n",
       "      <td>8.0</td>\n",
       "      <td>NaN</td>\n",
       "      <td>32.77</td>\n",
       "      <td>1</td>\n",
       "      <td>1</td>\n",
       "      <td>1</td>\n",
       "    </tr>\n",
       "    <tr>\n",
       "      <th>Pokemon Red/Pokemon Blue</th>\n",
       "      <td>1996</td>\n",
       "      <td>3.0189</td>\n",
       "      <td>2.07</td>\n",
       "      <td>1.38</td>\n",
       "      <td>NaN</td>\n",
       "      <td>NaN</td>\n",
       "      <td>NaN</td>\n",
       "      <td>NaN</td>\n",
       "      <td>31.37</td>\n",
       "      <td>3</td>\n",
       "      <td>4</td>\n",
       "      <td>2</td>\n",
       "    </tr>\n",
       "  </tbody>\n",
       "</table>\n",
       "</div>"
      ],
      "text/plain": [
       "                          Year      NA    EU    JP  Critic_Score  \\\n",
       "Name                                                               \n",
       "Wii Sports                2006  3.0189  2.07  1.38          76.0   \n",
       "Super Mario Bros.         1985  3.0189  2.07  1.38           NaN   \n",
       "Mario Kart Wii            2008  3.0189  2.07  1.38          82.0   \n",
       "Wii Sports Resort         2009  3.0189  2.07  1.38          80.0   \n",
       "Pokemon Red/Pokemon Blue  1996  3.0189  2.07  1.38           NaN   \n",
       "\n",
       "                          Critic_Count  User_Score  User_Count  Global  \\\n",
       "Name                                                                     \n",
       "Wii Sports                        51.0         8.0         NaN   82.53   \n",
       "Super Mario Bros.                  NaN         NaN         NaN   40.24   \n",
       "Mario Kart Wii                     NaN         8.3         NaN   35.52   \n",
       "Wii Sports Resort                  NaN         8.0         NaN   32.77   \n",
       "Pokemon Red/Pokemon Blue           NaN         NaN         NaN   31.37   \n",
       "\n",
       "                          Platform  Genre  Rating  \n",
       "Name                                               \n",
       "Wii Sports                       1      1       1  \n",
       "Super Mario Bros.                2      2       2  \n",
       "Mario Kart Wii                   1      3       1  \n",
       "Wii Sports Resort                1      1       1  \n",
       "Pokemon Red/Pokemon Blue         3      4       2  "
      ]
     },
     "execution_count": 69,
     "metadata": {},
     "output_type": "execute_result"
    }
   ],
   "source": [
    "df_train.head()"
   ]
  },
  {
   "cell_type": "code",
   "execution_count": 70,
   "id": "3f54eb0a",
   "metadata": {},
   "outputs": [
    {
     "name": "stdout",
     "output_type": "stream",
     "text": [
      "Number of rows and columns in `X_train`:  (10734, 12)\n",
      "Number of rows and columns in `X_test` :  (3578, 12)\n"
     ]
    }
   ],
   "source": [
    "## Splitting the data\n",
    "\n",
    "X_train, X_test = train_test_split(df_train, random_state = 121)\n",
    "print(\"Number of rows and columns in `X_train`: \", X_train.shape)\n",
    "print(\"Number of rows and columns in `X_test` : \", X_test.shape)"
   ]
  },
  {
   "cell_type": "code",
   "execution_count": 71,
   "id": "963ebd54",
   "metadata": {},
   "outputs": [],
   "source": [
    "y_test = X_test[\"Global\"]\n",
    "X_test = X_test.drop(columns = \"Global\")\n",
    "y_train = X_train[\"Global\"]\n",
    "X_train = X_train.drop(columns = \"Global\")"
   ]
  },
  {
   "cell_type": "code",
   "execution_count": 72,
   "id": "9158b61b",
   "metadata": {},
   "outputs": [
    {
     "name": "stdout",
     "output_type": "stream",
     "text": [
      "Number of rows and columns in `X_train`:  (10734, 11)\n",
      "Number of rows and columns in `X_test` :  (3578, 11)\n",
      "Number of rows and columns in `y_train`:  (10734,)\n",
      "Number of rows and columns in `y_test` :  (3578,)\n"
     ]
    }
   ],
   "source": [
    "print(\"Number of rows and columns in `X_train`: \", X_train.shape)\n",
    "print(\"Number of rows and columns in `X_test` : \", X_test.shape)\n",
    "print(\"Number of rows and columns in `y_train`: \", y_train.shape)\n",
    "print(\"Number of rows and columns in `y_test` : \", y_test.shape)"
   ]
  },
  {
   "cell_type": "code",
   "execution_count": 73,
   "id": "24093e2e",
   "metadata": {},
   "outputs": [
    {
     "data": {
      "text/plain": [
       "Year               0\n",
       "NA                 0\n",
       "EU                 0\n",
       "JP                 0\n",
       "Critic_Score    5509\n",
       "Critic_Count    5629\n",
       "User_Score      5978\n",
       "User_Count      7341\n",
       "Platform           0\n",
       "Genre              0\n",
       "Rating             0\n",
       "dtype: int64"
      ]
     },
     "execution_count": 73,
     "metadata": {},
     "output_type": "execute_result"
    }
   ],
   "source": [
    "X_train.isnull().sum()"
   ]
  },
  {
   "cell_type": "code",
   "execution_count": 74,
   "id": "c0ed2fec",
   "metadata": {},
   "outputs": [],
   "source": [
    "## Using KKN Imputer to impute missing values\n",
    "\n",
    "from sklearn.impute import KNNImputer\n",
    "# \n",
    "\n",
    "knn_imp = KNNImputer(n_neighbors = 5)\n",
    "X_train[['User_Count', 'User_Score', 'Critic_Count', 'Critic_Score']] = knn_imp.fit_transform(X_train[['User_Count', 'User_Score', 'Critic_Count', 'Critic_Score']])"
   ]
  },
  {
   "cell_type": "code",
   "execution_count": 75,
   "id": "2c1977f0",
   "metadata": {},
   "outputs": [
    {
     "data": {
      "text/plain": [
       "Year            0\n",
       "NA              0\n",
       "EU              0\n",
       "JP              0\n",
       "Critic_Score    0\n",
       "Critic_Count    0\n",
       "User_Score      0\n",
       "User_Count      0\n",
       "Platform        0\n",
       "Genre           0\n",
       "Rating          0\n",
       "dtype: int64"
      ]
     },
     "execution_count": 75,
     "metadata": {},
     "output_type": "execute_result"
    }
   ],
   "source": [
    "X_train.isnull().sum()"
   ]
  },
  {
   "cell_type": "code",
   "execution_count": 76,
   "id": "6487e211",
   "metadata": {},
   "outputs": [
    {
     "data": {
      "text/plain": [
       "Year            0\n",
       "NA              0\n",
       "EU              0\n",
       "JP              0\n",
       "Critic_Score    0\n",
       "Critic_Count    0\n",
       "User_Score      0\n",
       "User_Count      0\n",
       "Platform        0\n",
       "Genre           0\n",
       "Rating          0\n",
       "dtype: int64"
      ]
     },
     "execution_count": 76,
     "metadata": {},
     "output_type": "execute_result"
    }
   ],
   "source": [
    "knn_imp = KNNImputer(n_neighbors = 5)\n",
    "X_test[['User_Count', 'User_Score', 'Critic_Count', 'Critic_Score']] = knn_imp.fit_transform(X_test[['User_Count', 'User_Score', 'Critic_Count', 'Critic_Score']])\n",
    "X_test.isnull().sum()"
   ]
  },
  {
   "cell_type": "code",
   "execution_count": 77,
   "id": "d7539180",
   "metadata": {},
   "outputs": [
    {
     "data": {
      "text/plain": [
       "Year            0\n",
       "NA              0\n",
       "EU              0\n",
       "JP              0\n",
       "Critic_Score    0\n",
       "Critic_Count    0\n",
       "User_Score      0\n",
       "User_Count      0\n",
       "Platform        0\n",
       "Genre           0\n",
       "Rating          0\n",
       "dtype: int64"
      ]
     },
     "execution_count": 77,
     "metadata": {},
     "output_type": "execute_result"
    }
   ],
   "source": [
    "knn_imp = KNNImputer(n_neighbors = 5)\n",
    "df_test[['User_Count', 'User_Score', 'Critic_Count', 'Critic_Score']] = knn_imp.fit_transform(df_test[['User_Count', 'User_Score', 'Critic_Count', 'Critic_Score']])\n",
    "X_test.isnull().sum()"
   ]
  },
  {
   "cell_type": "code",
   "execution_count": 78,
   "id": "034b772e",
   "metadata": {},
   "outputs": [
    {
     "data": {
      "text/html": [
       "<div>\n",
       "<style scoped>\n",
       "    .dataframe tbody tr th:only-of-type {\n",
       "        vertical-align: middle;\n",
       "    }\n",
       "\n",
       "    .dataframe tbody tr th {\n",
       "        vertical-align: top;\n",
       "    }\n",
       "\n",
       "    .dataframe thead th {\n",
       "        text-align: right;\n",
       "    }\n",
       "</style>\n",
       "<table border=\"1\" class=\"dataframe\">\n",
       "  <thead>\n",
       "    <tr style=\"text-align: right;\">\n",
       "      <th></th>\n",
       "      <th>Year</th>\n",
       "      <th>NA</th>\n",
       "      <th>EU</th>\n",
       "      <th>JP</th>\n",
       "      <th>Critic_Score</th>\n",
       "      <th>Critic_Count</th>\n",
       "      <th>User_Score</th>\n",
       "      <th>User_Count</th>\n",
       "      <th>Platform</th>\n",
       "      <th>Genre</th>\n",
       "      <th>Rating</th>\n",
       "    </tr>\n",
       "    <tr>\n",
       "      <th>Name</th>\n",
       "      <th></th>\n",
       "      <th></th>\n",
       "      <th></th>\n",
       "      <th></th>\n",
       "      <th></th>\n",
       "      <th></th>\n",
       "      <th></th>\n",
       "      <th></th>\n",
       "      <th></th>\n",
       "      <th></th>\n",
       "      <th></th>\n",
       "    </tr>\n",
       "  </thead>\n",
       "  <tbody>\n",
       "    <tr>\n",
       "      <th>Nicktoons: MLB</th>\n",
       "      <td>2011</td>\n",
       "      <td>0.12</td>\n",
       "      <td>0.00</td>\n",
       "      <td>0.0</td>\n",
       "      <td>76.00000</td>\n",
       "      <td>13.400000</td>\n",
       "      <td>7.600000</td>\n",
       "      <td>7.000000</td>\n",
       "      <td>5</td>\n",
       "      <td>1</td>\n",
       "      <td>1</td>\n",
       "    </tr>\n",
       "    <tr>\n",
       "      <th>Shonen Jump's One Piece: Grand Battle</th>\n",
       "      <td>2005</td>\n",
       "      <td>0.07</td>\n",
       "      <td>0.05</td>\n",
       "      <td>0.0</td>\n",
       "      <td>63.41087</td>\n",
       "      <td>18.898913</td>\n",
       "      <td>6.888917</td>\n",
       "      <td>74.214106</td>\n",
       "      <td>7</td>\n",
       "      <td>10</td>\n",
       "      <td>2</td>\n",
       "    </tr>\n",
       "    <tr>\n",
       "      <th>Learn Math</th>\n",
       "      <td>2009</td>\n",
       "      <td>0.12</td>\n",
       "      <td>0.00</td>\n",
       "      <td>0.0</td>\n",
       "      <td>63.41087</td>\n",
       "      <td>18.898913</td>\n",
       "      <td>6.888917</td>\n",
       "      <td>74.214106</td>\n",
       "      <td>4</td>\n",
       "      <td>5</td>\n",
       "      <td>1</td>\n",
       "    </tr>\n",
       "    <tr>\n",
       "      <th>Nitrobike</th>\n",
       "      <td>2008</td>\n",
       "      <td>0.11</td>\n",
       "      <td>0.01</td>\n",
       "      <td>0.0</td>\n",
       "      <td>49.00000</td>\n",
       "      <td>22.000000</td>\n",
       "      <td>7.100000</td>\n",
       "      <td>7.000000</td>\n",
       "      <td>1</td>\n",
       "      <td>3</td>\n",
       "      <td>5</td>\n",
       "    </tr>\n",
       "    <tr>\n",
       "      <th>Cruise Ship Vacation Games</th>\n",
       "      <td>2009</td>\n",
       "      <td>0.12</td>\n",
       "      <td>0.00</td>\n",
       "      <td>0.0</td>\n",
       "      <td>63.41087</td>\n",
       "      <td>18.898913</td>\n",
       "      <td>6.888917</td>\n",
       "      <td>74.214106</td>\n",
       "      <td>1</td>\n",
       "      <td>5</td>\n",
       "      <td>1</td>\n",
       "    </tr>\n",
       "  </tbody>\n",
       "</table>\n",
       "</div>"
      ],
      "text/plain": [
       "                                       Year    NA    EU   JP  Critic_Score  \\\n",
       "Name                                                                         \n",
       "Nicktoons: MLB                         2011  0.12  0.00  0.0      76.00000   \n",
       "Shonen Jump's One Piece: Grand Battle  2005  0.07  0.05  0.0      63.41087   \n",
       "Learn Math                             2009  0.12  0.00  0.0      63.41087   \n",
       "Nitrobike                              2008  0.11  0.01  0.0      49.00000   \n",
       "Cruise Ship Vacation Games             2009  0.12  0.00  0.0      63.41087   \n",
       "\n",
       "                                       Critic_Count  User_Score  User_Count  \\\n",
       "Name                                                                          \n",
       "Nicktoons: MLB                            13.400000    7.600000    7.000000   \n",
       "Shonen Jump's One Piece: Grand Battle     18.898913    6.888917   74.214106   \n",
       "Learn Math                                18.898913    6.888917   74.214106   \n",
       "Nitrobike                                 22.000000    7.100000    7.000000   \n",
       "Cruise Ship Vacation Games                18.898913    6.888917   74.214106   \n",
       "\n",
       "                                       Platform  Genre  Rating  \n",
       "Name                                                            \n",
       "Nicktoons: MLB                                5      1       1  \n",
       "Shonen Jump's One Piece: Grand Battle         7     10       2  \n",
       "Learn Math                                    4      5       1  \n",
       "Nitrobike                                     1      3       5  \n",
       "Cruise Ship Vacation Games                    1      5       1  "
      ]
     },
     "execution_count": 78,
     "metadata": {},
     "output_type": "execute_result"
    }
   ],
   "source": [
    "df_test.head()"
   ]
  },
  {
   "cell_type": "code",
   "execution_count": 79,
   "id": "89eacdee",
   "metadata": {},
   "outputs": [
    {
     "data": {
      "text/html": [
       "<div>\n",
       "<style scoped>\n",
       "    .dataframe tbody tr th:only-of-type {\n",
       "        vertical-align: middle;\n",
       "    }\n",
       "\n",
       "    .dataframe tbody tr th {\n",
       "        vertical-align: top;\n",
       "    }\n",
       "\n",
       "    .dataframe thead th {\n",
       "        text-align: right;\n",
       "    }\n",
       "</style>\n",
       "<table border=\"1\" class=\"dataframe\">\n",
       "  <thead>\n",
       "    <tr style=\"text-align: right;\">\n",
       "      <th></th>\n",
       "      <th>Year</th>\n",
       "      <th>NA</th>\n",
       "      <th>EU</th>\n",
       "      <th>JP</th>\n",
       "      <th>Critic_Score</th>\n",
       "      <th>Critic_Count</th>\n",
       "      <th>User_Score</th>\n",
       "      <th>User_Count</th>\n",
       "      <th>Platform</th>\n",
       "      <th>Genre</th>\n",
       "      <th>Rating</th>\n",
       "    </tr>\n",
       "    <tr>\n",
       "      <th>Name</th>\n",
       "      <th></th>\n",
       "      <th></th>\n",
       "      <th></th>\n",
       "      <th></th>\n",
       "      <th></th>\n",
       "      <th></th>\n",
       "      <th></th>\n",
       "      <th></th>\n",
       "      <th></th>\n",
       "      <th></th>\n",
       "      <th></th>\n",
       "    </tr>\n",
       "  </thead>\n",
       "  <tbody>\n",
       "    <tr>\n",
       "      <th>Ride 2</th>\n",
       "      <td>2016</td>\n",
       "      <td>0.0000</td>\n",
       "      <td>0.04</td>\n",
       "      <td>0.00</td>\n",
       "      <td>71.000000</td>\n",
       "      <td>19.000000</td>\n",
       "      <td>8.000000</td>\n",
       "      <td>12.000000</td>\n",
       "      <td>10</td>\n",
       "      <td>3</td>\n",
       "      <td>1</td>\n",
       "    </tr>\n",
       "    <tr>\n",
       "      <th>Vehicular Combat League presents Motor Mayhem</th>\n",
       "      <td>2001</td>\n",
       "      <td>0.0800</td>\n",
       "      <td>0.06</td>\n",
       "      <td>0.00</td>\n",
       "      <td>70.098947</td>\n",
       "      <td>25.617826</td>\n",
       "      <td>7.376114</td>\n",
       "      <td>19.712644</td>\n",
       "      <td>7</td>\n",
       "      <td>3</td>\n",
       "      <td>2</td>\n",
       "    </tr>\n",
       "    <tr>\n",
       "      <th>Squeeballs Party</th>\n",
       "      <td>2009</td>\n",
       "      <td>0.1700</td>\n",
       "      <td>0.00</td>\n",
       "      <td>0.00</td>\n",
       "      <td>59.000000</td>\n",
       "      <td>16.000000</td>\n",
       "      <td>7.340000</td>\n",
       "      <td>26.000000</td>\n",
       "      <td>1</td>\n",
       "      <td>5</td>\n",
       "      <td>5</td>\n",
       "    </tr>\n",
       "    <tr>\n",
       "      <th>Yoshi's Woolly World</th>\n",
       "      <td>2015</td>\n",
       "      <td>0.6200</td>\n",
       "      <td>2.07</td>\n",
       "      <td>1.38</td>\n",
       "      <td>78.000000</td>\n",
       "      <td>28.200000</td>\n",
       "      <td>8.500000</td>\n",
       "      <td>21.600000</td>\n",
       "      <td>19</td>\n",
       "      <td>2</td>\n",
       "      <td>1</td>\n",
       "    </tr>\n",
       "    <tr>\n",
       "      <th>Boxing</th>\n",
       "      <td>1980</td>\n",
       "      <td>3.0189</td>\n",
       "      <td>0.04</td>\n",
       "      <td>0.00</td>\n",
       "      <td>70.098947</td>\n",
       "      <td>25.617826</td>\n",
       "      <td>7.376114</td>\n",
       "      <td>19.712644</td>\n",
       "      <td>16</td>\n",
       "      <td>10</td>\n",
       "      <td>2</td>\n",
       "    </tr>\n",
       "  </tbody>\n",
       "</table>\n",
       "</div>"
      ],
      "text/plain": [
       "                                               Year      NA    EU    JP  \\\n",
       "Name                                                                      \n",
       "Ride 2                                         2016  0.0000  0.04  0.00   \n",
       "Vehicular Combat League presents Motor Mayhem  2001  0.0800  0.06  0.00   \n",
       "Squeeballs Party                               2009  0.1700  0.00  0.00   \n",
       "Yoshi's Woolly World                           2015  0.6200  2.07  1.38   \n",
       "Boxing                                         1980  3.0189  0.04  0.00   \n",
       "\n",
       "                                               Critic_Score  Critic_Count  \\\n",
       "Name                                                                        \n",
       "Ride 2                                            71.000000     19.000000   \n",
       "Vehicular Combat League presents Motor Mayhem     70.098947     25.617826   \n",
       "Squeeballs Party                                  59.000000     16.000000   \n",
       "Yoshi's Woolly World                              78.000000     28.200000   \n",
       "Boxing                                            70.098947     25.617826   \n",
       "\n",
       "                                               User_Score  User_Count  \\\n",
       "Name                                                                    \n",
       "Ride 2                                           8.000000   12.000000   \n",
       "Vehicular Combat League presents Motor Mayhem    7.376114   19.712644   \n",
       "Squeeballs Party                                 7.340000   26.000000   \n",
       "Yoshi's Woolly World                             8.500000   21.600000   \n",
       "Boxing                                           7.376114   19.712644   \n",
       "\n",
       "                                               Platform  Genre  Rating  \n",
       "Name                                                                    \n",
       "Ride 2                                               10      3       1  \n",
       "Vehicular Combat League presents Motor Mayhem         7      3       2  \n",
       "Squeeballs Party                                      1      5       5  \n",
       "Yoshi's Woolly World                                 19      2       1  \n",
       "Boxing                                               16     10       2  "
      ]
     },
     "execution_count": 79,
     "metadata": {},
     "output_type": "execute_result"
    }
   ],
   "source": [
    "X_train.head()"
   ]
  },
  {
   "cell_type": "code",
   "execution_count": 80,
   "id": "4f3eed2e",
   "metadata": {},
   "outputs": [
    {
     "data": {
      "text/html": [
       "<div>\n",
       "<style scoped>\n",
       "    .dataframe tbody tr th:only-of-type {\n",
       "        vertical-align: middle;\n",
       "    }\n",
       "\n",
       "    .dataframe tbody tr th {\n",
       "        vertical-align: top;\n",
       "    }\n",
       "\n",
       "    .dataframe thead th {\n",
       "        text-align: right;\n",
       "    }\n",
       "</style>\n",
       "<table border=\"1\" class=\"dataframe\">\n",
       "  <thead>\n",
       "    <tr style=\"text-align: right;\">\n",
       "      <th></th>\n",
       "      <th>Year</th>\n",
       "      <th>NA</th>\n",
       "      <th>EU</th>\n",
       "      <th>JP</th>\n",
       "      <th>Critic_Score</th>\n",
       "      <th>Critic_Count</th>\n",
       "      <th>User_Score</th>\n",
       "      <th>User_Count</th>\n",
       "      <th>Platform</th>\n",
       "      <th>Genre</th>\n",
       "      <th>Rating</th>\n",
       "    </tr>\n",
       "    <tr>\n",
       "      <th>Name</th>\n",
       "      <th></th>\n",
       "      <th></th>\n",
       "      <th></th>\n",
       "      <th></th>\n",
       "      <th></th>\n",
       "      <th></th>\n",
       "      <th></th>\n",
       "      <th></th>\n",
       "      <th></th>\n",
       "      <th></th>\n",
       "      <th></th>\n",
       "    </tr>\n",
       "  </thead>\n",
       "  <tbody>\n",
       "    <tr>\n",
       "      <th>Digimon Story: Cyber Sleuth</th>\n",
       "      <td>2016</td>\n",
       "      <td>0.00</td>\n",
       "      <td>0.10</td>\n",
       "      <td>0.00</td>\n",
       "      <td>75.000000</td>\n",
       "      <td>45.000000</td>\n",
       "      <td>8.500000</td>\n",
       "      <td>19.800000</td>\n",
       "      <td>10</td>\n",
       "      <td>4</td>\n",
       "      <td>4</td>\n",
       "    </tr>\n",
       "    <tr>\n",
       "      <th>Batman: Vengeance</th>\n",
       "      <td>2001</td>\n",
       "      <td>0.20</td>\n",
       "      <td>0.05</td>\n",
       "      <td>0.00</td>\n",
       "      <td>70.000000</td>\n",
       "      <td>17.000000</td>\n",
       "      <td>5.800000</td>\n",
       "      <td>16.000000</td>\n",
       "      <td>20</td>\n",
       "      <td>11</td>\n",
       "      <td>4</td>\n",
       "    </tr>\n",
       "    <tr>\n",
       "      <th>Green Day: Rock Band</th>\n",
       "      <td>2010</td>\n",
       "      <td>0.24</td>\n",
       "      <td>0.13</td>\n",
       "      <td>0.00</td>\n",
       "      <td>75.000000</td>\n",
       "      <td>54.000000</td>\n",
       "      <td>6.600000</td>\n",
       "      <td>32.000000</td>\n",
       "      <td>5</td>\n",
       "      <td>6</td>\n",
       "      <td>4</td>\n",
       "    </tr>\n",
       "    <tr>\n",
       "      <th>Shin Sangoku Musou 5 Empires</th>\n",
       "      <td>2010</td>\n",
       "      <td>0.00</td>\n",
       "      <td>0.00</td>\n",
       "      <td>0.05</td>\n",
       "      <td>70.206723</td>\n",
       "      <td>24.758382</td>\n",
       "      <td>7.340955</td>\n",
       "      <td>19.162544</td>\n",
       "      <td>17</td>\n",
       "      <td>9</td>\n",
       "      <td>2</td>\n",
       "    </tr>\n",
       "    <tr>\n",
       "      <th>Football Manager 2011</th>\n",
       "      <td>2010</td>\n",
       "      <td>0.00</td>\n",
       "      <td>2.07</td>\n",
       "      <td>0.00</td>\n",
       "      <td>85.000000</td>\n",
       "      <td>23.000000</td>\n",
       "      <td>8.400000</td>\n",
       "      <td>9.600000</td>\n",
       "      <td>15</td>\n",
       "      <td>1</td>\n",
       "      <td>1</td>\n",
       "    </tr>\n",
       "  </tbody>\n",
       "</table>\n",
       "</div>"
      ],
      "text/plain": [
       "                              Year    NA    EU    JP  Critic_Score  \\\n",
       "Name                                                                 \n",
       "Digimon Story: Cyber Sleuth   2016  0.00  0.10  0.00     75.000000   \n",
       "Batman: Vengeance             2001  0.20  0.05  0.00     70.000000   \n",
       "Green Day: Rock Band          2010  0.24  0.13  0.00     75.000000   \n",
       "Shin Sangoku Musou 5 Empires  2010  0.00  0.00  0.05     70.206723   \n",
       "Football Manager 2011         2010  0.00  2.07  0.00     85.000000   \n",
       "\n",
       "                              Critic_Count  User_Score  User_Count  Platform  \\\n",
       "Name                                                                           \n",
       "Digimon Story: Cyber Sleuth      45.000000    8.500000   19.800000        10   \n",
       "Batman: Vengeance                17.000000    5.800000   16.000000        20   \n",
       "Green Day: Rock Band             54.000000    6.600000   32.000000         5   \n",
       "Shin Sangoku Musou 5 Empires     24.758382    7.340955   19.162544        17   \n",
       "Football Manager 2011            23.000000    8.400000    9.600000        15   \n",
       "\n",
       "                              Genre  Rating  \n",
       "Name                                         \n",
       "Digimon Story: Cyber Sleuth       4       4  \n",
       "Batman: Vengeance                11       4  \n",
       "Green Day: Rock Band              6       4  \n",
       "Shin Sangoku Musou 5 Empires      9       2  \n",
       "Football Manager 2011             1       1  "
      ]
     },
     "execution_count": 80,
     "metadata": {},
     "output_type": "execute_result"
    }
   ],
   "source": [
    "X_test.head()"
   ]
  },
  {
   "cell_type": "markdown",
   "id": "c0771c20",
   "metadata": {},
   "source": [
    "## Feature Modeling"
   ]
  },
  {
   "cell_type": "code",
   "execution_count": 81,
   "id": "6b2ecba5",
   "metadata": {},
   "outputs": [],
   "source": [
    "## Making baseline model\n",
    "\n",
    "## Mean Absolute error\n",
    "\n",
    "def mae(y_true, y_pred):\n",
    "    return np.average(abs(y_true - y_pred))"
   ]
  },
  {
   "cell_type": "code",
   "execution_count": 82,
   "id": "a4d4fa6d",
   "metadata": {},
   "outputs": [
    {
     "name": "stdout",
     "output_type": "stream",
     "text": [
      "Baseline guess for global count is: 0.60\n",
      "Baseline Performance on the test set: MAE = 0.6609\n"
     ]
    }
   ],
   "source": [
    "# For the baseline guess I'll use mean value of global sales in the train dataset.\n",
    "baseline_guess = np.mean(y_train)\n",
    "basic_baseline_mae = mae(y_test, baseline_guess)\n",
    "print(\"Baseline guess for global count is: {:.02f}\".format(baseline_guess))\n",
    "print(\"Baseline Performance on the test set: MAE = {:.04f}\".format(basic_baseline_mae))"
   ]
  },
  {
   "cell_type": "code",
   "execution_count": 83,
   "id": "3ce98ab2",
   "metadata": {},
   "outputs": [
    {
     "name": "stdout",
     "output_type": "stream",
     "text": [
      "Baseline guess for global count is: 0.22\n",
      "Baseline Performance on the test set: MAE = 0.5324\n"
     ]
    }
   ],
   "source": [
    "baseline_guess_m = np.median(y_train)\n",
    "basic_baseline_mae_m = mae(y_test, baseline_guess_m)\n",
    "print(\"Baseline guess for global count is: {:.02f}\".format(baseline_guess_m))\n",
    "print(\"Baseline Performance on the test set: MAE = {:.04f}\".format(basic_baseline_mae_m))"
   ]
  },
  {
   "cell_type": "code",
   "execution_count": 84,
   "id": "651a5e7f",
   "metadata": {},
   "outputs": [],
   "source": [
    "def rmse(y_true, y_pred):\n",
    "    return np.sqrt(np.mean(np.square(y_true-y_pred))) "
   ]
  },
  {
   "cell_type": "code",
   "execution_count": 85,
   "id": "6fe71bda",
   "metadata": {},
   "outputs": [
    {
     "name": "stdout",
     "output_type": "stream",
     "text": [
      "Baseline guess for global count is: 0.60\n",
      "Baseline Performance on the test set: RSME = 1.6403\n"
     ]
    }
   ],
   "source": [
    "baseline_guess_rsme = np.mean(y_train)\n",
    "basic_baseline_mae_rsme = rmse(y_test, baseline_guess_rsme)\n",
    "print(\"Baseline guess for global count is: {:.02f}\".format(baseline_guess_rsme))\n",
    "print(\"Baseline Performance on the test set: RSME = {:.04f}\".format(basic_baseline_mae_rsme))"
   ]
  },
  {
   "cell_type": "code",
   "execution_count": 86,
   "id": "aeebcb4d",
   "metadata": {},
   "outputs": [],
   "source": [
    "from sklearn.linear_model import LinearRegression, Ridge\n",
    "from sklearn.ensemble import RandomForestRegressor, GradientBoostingRegressor\n",
    "from sklearn.svm import SVR"
   ]
  },
  {
   "cell_type": "code",
   "execution_count": 87,
   "id": "35e37c59",
   "metadata": {},
   "outputs": [],
   "source": [
    "## Since we have the same common step for fit, predict and evaluate, I will make a function of it\n",
    "\n",
    "def fit_and_evaluate(model):\n",
    "    \n",
    "    # Train the model\n",
    "    model.fit(X_train, y_train)\n",
    "    \n",
    "    # Make predictions and evalute\n",
    "    model_pred = model.predict(X_test)\n",
    "    model_mae = mae(y_test, model_pred)\n",
    "    \n",
    "    # Return the performance metric\n",
    "    return model_mae"
   ]
  },
  {
   "cell_type": "code",
   "execution_count": 88,
   "id": "383fd82e",
   "metadata": {},
   "outputs": [],
   "source": [
    "# Loss function to be optimized\n",
    "loss = [\"ls\", \"lad\", \"huber\"]\n",
    "\n",
    "# Maximum depth of each tree\n",
    "max_depth = [2, 3, 5, 10, 15]\n",
    "\n",
    "# Minimum number of samples per leaf\n",
    "min_samples_leaf = [1, 2, 4, 6, 8]\n",
    "\n",
    "# Minimum number of samples to split a node\n",
    "min_samples_split = [2, 4, 6, 10]\n",
    "\n",
    "# Maximum number of features to consider for making splits\n",
    "max_features = [\"auto\", \"sqrt\", \"log2\", None]\n",
    "\n",
    "hyperparameter_grid = {\"loss\": loss,\n",
    "                       \"max_depth\": max_depth,\n",
    "                       \"min_samples_leaf\": min_samples_leaf,\n",
    "                       \"min_samples_split\": min_samples_split,\n",
    "                       \"max_features\": max_features}"
   ]
  },
  {
   "cell_type": "code",
   "execution_count": 89,
   "id": "42454f97",
   "metadata": {},
   "outputs": [
    {
     "name": "stdout",
     "output_type": "stream",
     "text": [
      "Linear Regression Performance on the test set: MAE = 0.3582\n"
     ]
    }
   ],
   "source": [
    "lr = LinearRegression()\n",
    "lr_mae = fit_and_evaluate(lr)\n",
    "\n",
    "print(\"Linear Regression Performance on the test set: MAE = {:.04f}\".format(lr_mae))"
   ]
  },
  {
   "cell_type": "code",
   "execution_count": 90,
   "id": "8a14f1c7",
   "metadata": {},
   "outputs": [
    {
     "name": "stdout",
     "output_type": "stream",
     "text": [
      "Support Vector Machine Regression Performance on the test set: MAE = 0.5463\n"
     ]
    }
   ],
   "source": [
    "svm = SVR(C = 1000, gamma=0.1)\n",
    "svm_mae = fit_and_evaluate(svm)\n",
    "\n",
    "print(\"Support Vector Machine Regression Performance on the test set: MAE = {:.04f}\".format(svm_mae))"
   ]
  },
  {
   "cell_type": "code",
   "execution_count": 91,
   "id": "1cfc8f58",
   "metadata": {},
   "outputs": [
    {
     "name": "stdout",
     "output_type": "stream",
     "text": [
      "Random Forest Regression Performance on the test set: MAE = 0.2210\n"
     ]
    }
   ],
   "source": [
    "random_forest = RandomForestRegressor(random_state=60)\n",
    "random_forest_mae = fit_and_evaluate(random_forest)\n",
    "\n",
    "print(\"Random Forest Regression Performance on the test set: MAE = {:.04f}\".format(random_forest_mae))"
   ]
  },
  {
   "cell_type": "code",
   "execution_count": 92,
   "id": "d2eb5031",
   "metadata": {},
   "outputs": [
    {
     "name": "stdout",
     "output_type": "stream",
     "text": [
      "Gradient Boosting Regression Performance on the test set: MAE = 0.2328\n"
     ]
    }
   ],
   "source": [
    "gradient_boosting = GradientBoostingRegressor(random_state=60)\n",
    "gradient_boosting_mae = fit_and_evaluate(gradient_boosting)\n",
    "\n",
    "print(\"Gradient Boosting Regression Performance on the test set: MAE = {:.04f}\".format(gradient_boosting_mae))"
   ]
  },
  {
   "cell_type": "code",
   "execution_count": 93,
   "id": "2c3a2631",
   "metadata": {},
   "outputs": [
    {
     "name": "stdout",
     "output_type": "stream",
     "text": [
      "K-Nearest Neighbors Regression Performance on the test set: MAE = 0.4126\n"
     ]
    }
   ],
   "source": [
    "knn = KNeighborsRegressor(n_neighbors=10)\n",
    "knn_mae = fit_and_evaluate(knn)\n",
    "\n",
    "print(\"K-Nearest Neighbors Regression Performance on the test set: MAE = {:.04f}\".format(knn_mae))"
   ]
  },
  {
   "cell_type": "code",
   "execution_count": 94,
   "id": "c5036143",
   "metadata": {},
   "outputs": [
    {
     "name": "stdout",
     "output_type": "stream",
     "text": [
      "K-Nearest Neighbors Regression Performance on the test set: MAE = 0.4126\n"
     ]
    }
   ],
   "source": [
    "knn_20 = KNeighborsRegressor(n_neighbors=20)\n",
    "knn_mae_20 = fit_and_evaluate(knn_20)\n",
    "\n",
    "print(\"K-Nearest Neighbors Regression Performance on the test set: MAE = {:.04f}\".format(knn_mae))"
   ]
  },
  {
   "cell_type": "code",
   "execution_count": 95,
   "id": "f71249d0",
   "metadata": {},
   "outputs": [
    {
     "name": "stdout",
     "output_type": "stream",
     "text": [
      "K-Nearest Neighbors Regression Performance on the test set: MAE = 0.4126\n"
     ]
    }
   ],
   "source": [
    "knn_5 = KNeighborsRegressor(n_neighbors=5)\n",
    "knn_mae_5 = fit_and_evaluate(knn_5)\n",
    "\n",
    "print(\"K-Nearest Neighbors Regression Performance on the test set: MAE = {:.04f}\".format(knn_mae))"
   ]
  },
  {
   "cell_type": "code",
   "execution_count": 96,
   "id": "e46412de",
   "metadata": {},
   "outputs": [
    {
     "name": "stdout",
     "output_type": "stream",
     "text": [
      "Ridge Regression Performance on the test set: MAE = 0.3577\n"
     ]
    }
   ],
   "source": [
    "ridge = Ridge(alpha=10)\n",
    "ridge_mae = fit_and_evaluate(ridge)\n",
    "\n",
    "print(\"Ridge Regression Performance on the test set: MAE = {:.04f}\".format(ridge_mae))"
   ]
  },
  {
   "cell_type": "code",
   "execution_count": 97,
   "id": "15068d0d",
   "metadata": {},
   "outputs": [
    {
     "data": {
      "image/png": "[encoded data removed]",
      "text/plain": [
       "<Figure size 432x288 with 1 Axes>"
      ]
     },
     "metadata": {
      "needs_background": "light"
     },
     "output_type": "display_data"
    }
   ],
   "source": [
    "model_comparison = pd.DataFrame({\"model\": [\"Linear Regression\", \"Support Vector Machine\",\n",
    "                                           \"Random Forest\", \"Gradient Boosting\",\n",
    "                                            \"K-Nearest Neighbors = 10\", \"K-Nearest Neighbors = 5\", \"K-Nearest Neighbors = 20\", \"Baseline (median)\", \"Ridge\"],\n",
    "                                 \"mae\": [lr_mae, svm_mae, random_forest_mae, \n",
    "                                         gradient_boosting_mae, knn_mae, knn_mae_5, knn_mae_20, basic_baseline_mae, ridge_mae]})\n",
    "model_comparison.sort_values(\"mae\", ascending=False).plot(x=\"model\", y=\"mae\", kind=\"barh\",\n",
    "                                                           color=\"lightskyblue\", legend=False)\n",
    "plt.ylabel(\"\"); plt.yticks(size=14); plt.xlabel(\"Mean Absolute Error\"); plt.xticks(size=14)\n",
    "plt.title(\"Model Comparison on Test MAE\", size=20);"
   ]
  },
  {
   "cell_type": "code",
   "execution_count": 98,
   "id": "c33b9e67",
   "metadata": {},
   "outputs": [],
   "source": [
    "# Number of trees in random forest\n",
    "n_estimators = [int(x) for x in np.linspace(start = 100, stop = 500, num = 10)]\n",
    "# Number of features to consider at every split\n",
    "max_features = ['auto', 'sqrt']\n",
    "# Maximum number of levels in tree\n",
    "max_depth = [int(x) for x in np.linspace(10, 110, num = 11)]\n",
    "max_depth.append(None)\n",
    "# Minimum number of samples required to split a node\n",
    "min_samples_split = [2, 5, 10]\n",
    "# Minimum number of samples required at each leaf node\n",
    "min_samples_leaf = [1, 2, 4]\n",
    "# Method of selecting samples for training each tree\n",
    "bootstrap = [True, False]\n",
    "random_grid = {'n_estimators': n_estimators,\n",
    "               'max_features': max_features,\n",
    "               'max_depth': max_depth,\n",
    "               'min_samples_split': min_samples_split,\n",
    "               'min_samples_leaf': min_samples_leaf,\n",
    "               'bootstrap': bootstrap}"
   ]
  },
  {
   "cell_type": "code",
   "execution_count": 99,
   "id": "36f544e5",
   "metadata": {},
   "outputs": [
    {
     "name": "stdout",
     "output_type": "stream",
     "text": [
      "Fitting 4 folds for each of 20 candidates, totalling 80 fits\n"
     ]
    }
   ],
   "source": [
    "from sklearn.model_selection import RandomizedSearchCV\n",
    "model = RandomForestRegressor(random_state = 53)\n",
    "\n",
    "random_cv = RandomizedSearchCV(estimator=model,\n",
    "                               param_distributions=random_grid,\n",
    "                               cv=4, n_iter=20, \n",
    "                               n_jobs=-1, verbose=1,\n",
    "                               random_state=42)\n",
    "random_cv.fit(X_train, y_train);"
   ]
  },
  {
   "cell_type": "code",
   "execution_count": 100,
   "id": "99e29c6e",
   "metadata": {},
   "outputs": [
    {
     "data": {
      "text/plain": [
       "{'n_estimators': 188,\n",
       " 'min_samples_split': 10,\n",
       " 'min_samples_leaf': 4,\n",
       " 'max_features': 'sqrt',\n",
       " 'max_depth': 90,\n",
       " 'bootstrap': False}"
      ]
     },
     "execution_count": 100,
     "metadata": {},
     "output_type": "execute_result"
    }
   ],
   "source": [
    "random_cv.best_params_"
   ]
  },
  {
   "cell_type": "code",
   "execution_count": 101,
   "id": "3fdbdb5f",
   "metadata": {},
   "outputs": [
    {
     "name": "stdout",
     "output_type": "stream",
     "text": [
      "Model Performance\n",
      "Average Error: 0.2234 degrees.\n",
      "Accuracy = 80.76%.\n"
     ]
    }
   ],
   "source": [
    "def evaluate(model, test_features, test_labels):\n",
    "    predictions = model.predict(test_features)\n",
    "    errors = abs(predictions - test_labels)\n",
    "    mape = 100 * np.mean(errors / test_labels)\n",
    "    accuracy = 100 - mape\n",
    "    print('Model Performance')\n",
    "    print('Average Error: {:0.4f} degrees.'.format(np.mean(errors)))\n",
    "    print('Accuracy = {:0.2f}%.'.format(accuracy))\n",
    "    \n",
    "    return accuracy\n",
    "base_model = RandomForestRegressor(n_estimators = 10, random_state = 42)\n",
    "base_model.fit(X_train, y_train)\n",
    "base_accuracy = evaluate(base_model, X_test, y_test)"
   ]
  },
  {
   "cell_type": "code",
   "execution_count": 102,
   "id": "f14258ef",
   "metadata": {},
   "outputs": [
    {
     "name": "stdout",
     "output_type": "stream",
     "text": [
      "Model Performance\n",
      "Average Error: 0.2068 degrees.\n",
      "Accuracy = 67.02%.\n"
     ]
    }
   ],
   "source": [
    "best_random = random_cv.best_estimator_\n",
    "random_accuracy = evaluate(best_random, X_test, y_test)"
   ]
  },
  {
   "cell_type": "code",
   "execution_count": 103,
   "id": "b6b6e556",
   "metadata": {},
   "outputs": [
    {
     "data": {
      "text/plain": [
       "(2143, 11)"
      ]
     },
     "execution_count": 103,
     "metadata": {},
     "output_type": "execute_result"
    }
   ],
   "source": [
    "df_test.shape"
   ]
  },
  {
   "cell_type": "code",
   "execution_count": 104,
   "id": "cf8fd3be",
   "metadata": {},
   "outputs": [],
   "source": [
    "pred_df = best_random.predict(df_test)"
   ]
  },
  {
   "cell_type": "code",
   "execution_count": 105,
   "id": "2d7d88ad",
   "metadata": {},
   "outputs": [],
   "source": [
    "pred_df = pd.DataFrame(pred_df)"
   ]
  },
  {
   "cell_type": "code",
   "execution_count": 106,
   "id": "9f3fb5f0",
   "metadata": {},
   "outputs": [
    {
     "data": {
      "text/plain": [
       "(2143, 1)"
      ]
     },
     "execution_count": 106,
     "metadata": {},
     "output_type": "execute_result"
    }
   ],
   "source": [
    "pred_df.shape"
   ]
  },
  {
   "cell_type": "code",
   "execution_count": 107,
   "id": "da9c0552",
   "metadata": {
    "scrolled": true
   },
   "outputs": [
    {
     "data": {
      "text/html": [
       "<div>\n",
       "<style scoped>\n",
       "    .dataframe tbody tr th:only-of-type {\n",
       "        vertical-align: middle;\n",
       "    }\n",
       "\n",
       "    .dataframe tbody tr th {\n",
       "        vertical-align: top;\n",
       "    }\n",
       "\n",
       "    .dataframe thead th {\n",
       "        text-align: right;\n",
       "    }\n",
       "</style>\n",
       "<table border=\"1\" class=\"dataframe\">\n",
       "  <thead>\n",
       "    <tr style=\"text-align: right;\">\n",
       "      <th></th>\n",
       "      <th>Year</th>\n",
       "      <th>NA</th>\n",
       "      <th>EU</th>\n",
       "      <th>JP</th>\n",
       "      <th>Critic_Score</th>\n",
       "      <th>Critic_Count</th>\n",
       "      <th>User_Score</th>\n",
       "      <th>User_Count</th>\n",
       "      <th>Platform</th>\n",
       "      <th>Genre</th>\n",
       "      <th>Rating</th>\n",
       "    </tr>\n",
       "    <tr>\n",
       "      <th>Name</th>\n",
       "      <th></th>\n",
       "      <th></th>\n",
       "      <th></th>\n",
       "      <th></th>\n",
       "      <th></th>\n",
       "      <th></th>\n",
       "      <th></th>\n",
       "      <th></th>\n",
       "      <th></th>\n",
       "      <th></th>\n",
       "      <th></th>\n",
       "    </tr>\n",
       "  </thead>\n",
       "  <tbody>\n",
       "    <tr>\n",
       "      <th>Nicktoons: MLB</th>\n",
       "      <td>2011</td>\n",
       "      <td>0.12</td>\n",
       "      <td>0.00</td>\n",
       "      <td>0.0</td>\n",
       "      <td>76.00000</td>\n",
       "      <td>13.400000</td>\n",
       "      <td>7.600000</td>\n",
       "      <td>7.000000</td>\n",
       "      <td>5</td>\n",
       "      <td>1</td>\n",
       "      <td>1</td>\n",
       "    </tr>\n",
       "    <tr>\n",
       "      <th>Shonen Jump's One Piece: Grand Battle</th>\n",
       "      <td>2005</td>\n",
       "      <td>0.07</td>\n",
       "      <td>0.05</td>\n",
       "      <td>0.0</td>\n",
       "      <td>63.41087</td>\n",
       "      <td>18.898913</td>\n",
       "      <td>6.888917</td>\n",
       "      <td>74.214106</td>\n",
       "      <td>7</td>\n",
       "      <td>10</td>\n",
       "      <td>2</td>\n",
       "    </tr>\n",
       "    <tr>\n",
       "      <th>Learn Math</th>\n",
       "      <td>2009</td>\n",
       "      <td>0.12</td>\n",
       "      <td>0.00</td>\n",
       "      <td>0.0</td>\n",
       "      <td>63.41087</td>\n",
       "      <td>18.898913</td>\n",
       "      <td>6.888917</td>\n",
       "      <td>74.214106</td>\n",
       "      <td>4</td>\n",
       "      <td>5</td>\n",
       "      <td>1</td>\n",
       "    </tr>\n",
       "    <tr>\n",
       "      <th>Nitrobike</th>\n",
       "      <td>2008</td>\n",
       "      <td>0.11</td>\n",
       "      <td>0.01</td>\n",
       "      <td>0.0</td>\n",
       "      <td>49.00000</td>\n",
       "      <td>22.000000</td>\n",
       "      <td>7.100000</td>\n",
       "      <td>7.000000</td>\n",
       "      <td>1</td>\n",
       "      <td>3</td>\n",
       "      <td>5</td>\n",
       "    </tr>\n",
       "    <tr>\n",
       "      <th>Cruise Ship Vacation Games</th>\n",
       "      <td>2009</td>\n",
       "      <td>0.12</td>\n",
       "      <td>0.00</td>\n",
       "      <td>0.0</td>\n",
       "      <td>63.41087</td>\n",
       "      <td>18.898913</td>\n",
       "      <td>6.888917</td>\n",
       "      <td>74.214106</td>\n",
       "      <td>1</td>\n",
       "      <td>5</td>\n",
       "      <td>1</td>\n",
       "    </tr>\n",
       "  </tbody>\n",
       "</table>\n",
       "</div>"
      ],
      "text/plain": [
       "                                       Year    NA    EU   JP  Critic_Score  \\\n",
       "Name                                                                         \n",
       "Nicktoons: MLB                         2011  0.12  0.00  0.0      76.00000   \n",
       "Shonen Jump's One Piece: Grand Battle  2005  0.07  0.05  0.0      63.41087   \n",
       "Learn Math                             2009  0.12  0.00  0.0      63.41087   \n",
       "Nitrobike                              2008  0.11  0.01  0.0      49.00000   \n",
       "Cruise Ship Vacation Games             2009  0.12  0.00  0.0      63.41087   \n",
       "\n",
       "                                       Critic_Count  User_Score  User_Count  \\\n",
       "Name                                                                          \n",
       "Nicktoons: MLB                            13.400000    7.600000    7.000000   \n",
       "Shonen Jump's One Piece: Grand Battle     18.898913    6.888917   74.214106   \n",
       "Learn Math                                18.898913    6.888917   74.214106   \n",
       "Nitrobike                                 22.000000    7.100000    7.000000   \n",
       "Cruise Ship Vacation Games                18.898913    6.888917   74.214106   \n",
       "\n",
       "                                       Platform  Genre  Rating  \n",
       "Name                                                            \n",
       "Nicktoons: MLB                                5      1       1  \n",
       "Shonen Jump's One Piece: Grand Battle         7     10       2  \n",
       "Learn Math                                    4      5       1  \n",
       "Nitrobike                                     1      3       5  \n",
       "Cruise Ship Vacation Games                    1      5       1  "
      ]
     },
     "execution_count": 107,
     "metadata": {},
     "output_type": "execute_result"
    }
   ],
   "source": [
    "df_test.head()"
   ]
  },
  {
   "cell_type": "code",
   "execution_count": 108,
   "id": "00d7d7ec",
   "metadata": {},
   "outputs": [],
   "source": [
    "df_test = df_test.reset_index()"
   ]
  },
  {
   "cell_type": "code",
   "execution_count": 109,
   "id": "c3adf9dc",
   "metadata": {},
   "outputs": [
    {
     "data": {
      "text/html": [
       "<div>\n",
       "<style scoped>\n",
       "    .dataframe tbody tr th:only-of-type {\n",
       "        vertical-align: middle;\n",
       "    }\n",
       "\n",
       "    .dataframe tbody tr th {\n",
       "        vertical-align: top;\n",
       "    }\n",
       "\n",
       "    .dataframe thead th {\n",
       "        text-align: right;\n",
       "    }\n",
       "</style>\n",
       "<table border=\"1\" class=\"dataframe\">\n",
       "  <thead>\n",
       "    <tr style=\"text-align: right;\">\n",
       "      <th></th>\n",
       "      <th>Name</th>\n",
       "      <th>Year</th>\n",
       "      <th>NA</th>\n",
       "      <th>EU</th>\n",
       "      <th>JP</th>\n",
       "      <th>Critic_Score</th>\n",
       "      <th>Critic_Count</th>\n",
       "      <th>User_Score</th>\n",
       "      <th>User_Count</th>\n",
       "      <th>Platform</th>\n",
       "      <th>Genre</th>\n",
       "      <th>Rating</th>\n",
       "    </tr>\n",
       "  </thead>\n",
       "  <tbody>\n",
       "    <tr>\n",
       "      <th>0</th>\n",
       "      <td>Nicktoons: MLB</td>\n",
       "      <td>2011</td>\n",
       "      <td>0.12</td>\n",
       "      <td>0.00</td>\n",
       "      <td>0.0</td>\n",
       "      <td>76.00000</td>\n",
       "      <td>13.400000</td>\n",
       "      <td>7.600000</td>\n",
       "      <td>7.000000</td>\n",
       "      <td>5</td>\n",
       "      <td>1</td>\n",
       "      <td>1</td>\n",
       "    </tr>\n",
       "    <tr>\n",
       "      <th>1</th>\n",
       "      <td>Shonen Jump's One Piece: Grand Battle</td>\n",
       "      <td>2005</td>\n",
       "      <td>0.07</td>\n",
       "      <td>0.05</td>\n",
       "      <td>0.0</td>\n",
       "      <td>63.41087</td>\n",
       "      <td>18.898913</td>\n",
       "      <td>6.888917</td>\n",
       "      <td>74.214106</td>\n",
       "      <td>7</td>\n",
       "      <td>10</td>\n",
       "      <td>2</td>\n",
       "    </tr>\n",
       "    <tr>\n",
       "      <th>2</th>\n",
       "      <td>Learn Math</td>\n",
       "      <td>2009</td>\n",
       "      <td>0.12</td>\n",
       "      <td>0.00</td>\n",
       "      <td>0.0</td>\n",
       "      <td>63.41087</td>\n",
       "      <td>18.898913</td>\n",
       "      <td>6.888917</td>\n",
       "      <td>74.214106</td>\n",
       "      <td>4</td>\n",
       "      <td>5</td>\n",
       "      <td>1</td>\n",
       "    </tr>\n",
       "    <tr>\n",
       "      <th>3</th>\n",
       "      <td>Nitrobike</td>\n",
       "      <td>2008</td>\n",
       "      <td>0.11</td>\n",
       "      <td>0.01</td>\n",
       "      <td>0.0</td>\n",
       "      <td>49.00000</td>\n",
       "      <td>22.000000</td>\n",
       "      <td>7.100000</td>\n",
       "      <td>7.000000</td>\n",
       "      <td>1</td>\n",
       "      <td>3</td>\n",
       "      <td>5</td>\n",
       "    </tr>\n",
       "    <tr>\n",
       "      <th>4</th>\n",
       "      <td>Cruise Ship Vacation Games</td>\n",
       "      <td>2009</td>\n",
       "      <td>0.12</td>\n",
       "      <td>0.00</td>\n",
       "      <td>0.0</td>\n",
       "      <td>63.41087</td>\n",
       "      <td>18.898913</td>\n",
       "      <td>6.888917</td>\n",
       "      <td>74.214106</td>\n",
       "      <td>1</td>\n",
       "      <td>5</td>\n",
       "      <td>1</td>\n",
       "    </tr>\n",
       "  </tbody>\n",
       "</table>\n",
       "</div>"
      ],
      "text/plain": [
       "                                    Name  Year    NA    EU   JP  Critic_Score  \\\n",
       "0                         Nicktoons: MLB  2011  0.12  0.00  0.0      76.00000   \n",
       "1  Shonen Jump's One Piece: Grand Battle  2005  0.07  0.05  0.0      63.41087   \n",
       "2                             Learn Math  2009  0.12  0.00  0.0      63.41087   \n",
       "3                              Nitrobike  2008  0.11  0.01  0.0      49.00000   \n",
       "4             Cruise Ship Vacation Games  2009  0.12  0.00  0.0      63.41087   \n",
       "\n",
       "   Critic_Count  User_Score  User_Count  Platform  Genre  Rating  \n",
       "0     13.400000    7.600000    7.000000         5      1       1  \n",
       "1     18.898913    6.888917   74.214106         7     10       2  \n",
       "2     18.898913    6.888917   74.214106         4      5       1  \n",
       "3     22.000000    7.100000    7.000000         1      3       5  \n",
       "4     18.898913    6.888917   74.214106         1      5       1  "
      ]
     },
     "execution_count": 109,
     "metadata": {},
     "output_type": "execute_result"
    }
   ],
   "source": [
    "df_test.head()"
   ]
  },
  {
   "cell_type": "code",
   "execution_count": 113,
   "id": "b8057433",
   "metadata": {},
   "outputs": [],
   "source": [
    "output_df = pd.DataFrame()\n",
    "output_df['Name'] = df_sample[\"Name\"]\n",
    "output_df['Global Sales'] = pred_df"
   ]
  },
  {
   "cell_type": "code",
   "execution_count": 114,
   "id": "bced8e20",
   "metadata": {},
   "outputs": [],
   "source": [
    "output_df.to_csv(\"Prediction_1.csv\", index = False)"
   ]
  },
  {
   "cell_type": "code",
   "execution_count": null,
   "id": "0acc0118",
   "metadata": {},
   "outputs": [],
   "source": []
  }
 ],
 "metadata": {
  "kernelspec": {
   "display_name": "Python 3 (ipykernel)",
   "language": "python",
   "name": "python3"
  },
  "language_info": {
   "codemirror_mode": {
    "name": "ipython",
    "version": 3
   },
   "file_extension": ".py",
   "mimetype": "text/x-python",
   "name": "python",
   "nbconvert_exporter": "python",
   "pygments_lexer": "ipython3",
   "version": "3.9.7"
  }
 },
 "nbformat": 4,
 "nbformat_minor": 5
}
